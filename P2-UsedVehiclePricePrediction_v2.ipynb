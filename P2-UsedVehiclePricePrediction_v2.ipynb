{
 "cells": [
  {
   "cell_type": "markdown",
   "metadata": {
    "colab_type": "text",
    "id": "6ARqSIC_pOQa"
   },
   "source": [
    "# Project 2\n",
    "\n",
    "# Used Vehicle Price Prediction"
   ]
  },
  {
   "cell_type": "markdown",
   "metadata": {},
   "source": [
    "### Integrantes del Grupo:\n",
    "\n",
    "* Jorge Enrique Gonzalez Garcia (201920233)\n",
    "* Daniel Camilo Rojas Arcila (201924286)\n",
    "* Julian Andrés Velasquez Osorio (201014210)\n",
    "* Fernando Pérez Moreno (200222809)"
   ]
  },
  {
   "cell_type": "markdown",
   "metadata": {
    "colab_type": "text",
    "id": "WE2PCE_mpOQd"
   },
   "source": [
    "## Introduction\n",
    "\n",
    "- 1.2 Million listings scraped from TrueCar.com - Price, Mileage, Make, Model dataset from Kaggle: [data](https://www.kaggle.com/jpayne/852k-used-car-listings)\n",
    "- Each observation represents the price of an used car"
   ]
  },
  {
   "cell_type": "code",
   "execution_count": 17,
   "metadata": {
    "colab": {},
    "colab_type": "code",
    "executionInfo": {
     "elapsed": 1348,
     "status": "ok",
     "timestamp": 1593442544028,
     "user": {
      "displayName": "Julian Velasquez",
      "photoUrl": "",
      "userId": "11029812688284237125"
     },
     "user_tz": 300
    },
    "id": "93BkAr38pOQe"
   },
   "outputs": [],
   "source": [
    "%matplotlib inline\n",
    "import pandas as pd\n",
    "from sklearn.model_selection import train_test_split"
   ]
  },
  {
   "cell_type": "code",
   "execution_count": 2,
   "metadata": {
    "colab": {
     "base_uri": "https://localhost:8080/",
     "height": 122
    },
    "colab_type": "code",
    "executionInfo": {
     "elapsed": 34825,
     "status": "ok",
     "timestamp": 1593442577547,
     "user": {
      "displayName": "Julian Velasquez",
      "photoUrl": "",
      "userId": "11029812688284237125"
     },
     "user_tz": 300
    },
    "id": "a3Pv4u2RpOQn",
    "outputId": "2adbf213-fb7b-4696-bd7f-4c2fb8a19853"
   },
   "outputs": [],
   "source": [
    "data = pd.read_csv('../ModeloAvanzadosDecisionTrees/dataTrain_carListings.zip')\n",
    "#from google.colab import drive\n",
    "#drive.mount('/content/drive')\n",
    "#data = pd.read_csv(\"/content/drive/My Drive/Colab Notebooks/dataTrain_carListings.csv\")\n"
   ]
  },
  {
   "cell_type": "code",
   "execution_count": 18,
   "metadata": {
    "colab": {
     "base_uri": "https://localhost:8080/",
     "height": 204
    },
    "colab_type": "code",
    "executionInfo": {
     "elapsed": 1183,
     "status": "ok",
     "timestamp": 1593442584766,
     "user": {
      "displayName": "Julian Velasquez",
      "photoUrl": "",
      "userId": "11029812688284237125"
     },
     "user_tz": 300
    },
    "id": "Lk_zw-7TpOQu",
    "outputId": "e61edf63-899f-4ada-d754-3fa07bfb1518"
   },
   "outputs": [
    {
     "data": {
      "text/html": [
       "<div>\n",
       "<style scoped>\n",
       "    .dataframe tbody tr th:only-of-type {\n",
       "        vertical-align: middle;\n",
       "    }\n",
       "\n",
       "    .dataframe tbody tr th {\n",
       "        vertical-align: top;\n",
       "    }\n",
       "\n",
       "    .dataframe thead th {\n",
       "        text-align: right;\n",
       "    }\n",
       "</style>\n",
       "<table border=\"1\" class=\"dataframe\">\n",
       "  <thead>\n",
       "    <tr style=\"text-align: right;\">\n",
       "      <th></th>\n",
       "      <th>Price</th>\n",
       "      <th>Year</th>\n",
       "      <th>Mileage</th>\n",
       "      <th>State</th>\n",
       "      <th>Make</th>\n",
       "      <th>Model</th>\n",
       "    </tr>\n",
       "  </thead>\n",
       "  <tbody>\n",
       "    <tr>\n",
       "      <td>0</td>\n",
       "      <td>21490</td>\n",
       "      <td>2014</td>\n",
       "      <td>31909</td>\n",
       "      <td>0</td>\n",
       "      <td>0</td>\n",
       "      <td>0</td>\n",
       "    </tr>\n",
       "    <tr>\n",
       "      <td>1</td>\n",
       "      <td>21250</td>\n",
       "      <td>2016</td>\n",
       "      <td>25741</td>\n",
       "      <td>1</td>\n",
       "      <td>1</td>\n",
       "      <td>1</td>\n",
       "    </tr>\n",
       "    <tr>\n",
       "      <td>2</td>\n",
       "      <td>20925</td>\n",
       "      <td>2016</td>\n",
       "      <td>24633</td>\n",
       "      <td>2</td>\n",
       "      <td>2</td>\n",
       "      <td>2</td>\n",
       "    </tr>\n",
       "    <tr>\n",
       "      <td>3</td>\n",
       "      <td>14500</td>\n",
       "      <td>2012</td>\n",
       "      <td>84026</td>\n",
       "      <td>3</td>\n",
       "      <td>3</td>\n",
       "      <td>3</td>\n",
       "    </tr>\n",
       "    <tr>\n",
       "      <td>4</td>\n",
       "      <td>32488</td>\n",
       "      <td>2013</td>\n",
       "      <td>22816</td>\n",
       "      <td>4</td>\n",
       "      <td>3</td>\n",
       "      <td>4</td>\n",
       "    </tr>\n",
       "  </tbody>\n",
       "</table>\n",
       "</div>"
      ],
      "text/plain": [
       "   Price  Year  Mileage  State  Make  Model\n",
       "0  21490  2014    31909      0     0      0\n",
       "1  21250  2016    25741      1     1      1\n",
       "2  20925  2016    24633      2     2      2\n",
       "3  14500  2012    84026      3     3      3\n",
       "4  32488  2013    22816      4     3      4"
      ]
     },
     "execution_count": 18,
     "metadata": {},
     "output_type": "execute_result"
    }
   ],
   "source": [
    "data.head()"
   ]
  },
  {
   "cell_type": "code",
   "execution_count": 4,
   "metadata": {
    "colab": {
     "base_uri": "https://localhost:8080/",
     "height": 34
    },
    "colab_type": "code",
    "executionInfo": {
     "elapsed": 4164,
     "status": "ok",
     "timestamp": 1593442590926,
     "user": {
      "displayName": "Julian Velasquez",
      "photoUrl": "",
      "userId": "11029812688284237125"
     },
     "user_tz": 300
    },
    "id": "jewNjl8bpOQ5",
    "outputId": "0b8fc04d-d47f-4c17-84fe-2c3293d32a2b"
   },
   "outputs": [
    {
     "data": {
      "text/plain": [
       "(500000, 6)"
      ]
     },
     "execution_count": 4,
     "metadata": {},
     "output_type": "execute_result"
    }
   ],
   "source": [
    "data.shape"
   ]
  },
  {
   "cell_type": "code",
   "execution_count": 5,
   "metadata": {
    "colab": {
     "base_uri": "https://localhost:8080/",
     "height": 170
    },
    "colab_type": "code",
    "executionInfo": {
     "elapsed": 1106,
     "status": "ok",
     "timestamp": 1593442593341,
     "user": {
      "displayName": "Julian Velasquez",
      "photoUrl": "",
      "userId": "11029812688284237125"
     },
     "user_tz": 300
    },
    "id": "fzogZHaDpOQ_",
    "outputId": "3e58d677-227b-4465-f188-9ed39843c016"
   },
   "outputs": [
    {
     "data": {
      "text/plain": [
       "count    500000.000000\n",
       "mean      21144.186304\n",
       "std       10753.259704\n",
       "min        5001.000000\n",
       "25%       13499.000000\n",
       "50%       18450.000000\n",
       "75%       26998.000000\n",
       "max       79999.000000\n",
       "Name: Price, dtype: float64"
      ]
     },
     "execution_count": 5,
     "metadata": {},
     "output_type": "execute_result"
    }
   ],
   "source": [
    "data.Price.describe()"
   ]
  },
  {
   "cell_type": "code",
   "execution_count": 6,
   "metadata": {
    "colab": {
     "base_uri": "https://localhost:8080/",
     "height": 296
    },
    "colab_type": "code",
    "executionInfo": {
     "elapsed": 2873,
     "status": "ok",
     "timestamp": 1593442597837,
     "user": {
      "displayName": "Julian Velasquez",
      "photoUrl": "",
      "userId": "11029812688284237125"
     },
     "user_tz": 300
    },
    "id": "Rv5RNl7FpORE",
    "outputId": "5d5fa5e9-e406-476f-fbc0-0be109488ef4"
   },
   "outputs": [
    {
     "data": {
      "text/plain": [
       "<matplotlib.axes._subplots.AxesSubplot at 0x19ff7f76088>"
      ]
     },
     "execution_count": 6,
     "metadata": {},
     "output_type": "execute_result"
    },
    {
     "data": {
      "image/png": "[encoded data removed]",
      "text/plain": [
       "<Figure size 432x288 with 1 Axes>"
      ]
     },
     "metadata": {
      "needs_background": "light"
     },
     "output_type": "display_data"
    }
   ],
   "source": [
    "data.plot(kind='scatter', y='Price', x='Year')"
   ]
  },
  {
   "cell_type": "code",
   "execution_count": 7,
   "metadata": {
    "colab": {
     "base_uri": "https://localhost:8080/",
     "height": 296
    },
    "colab_type": "code",
    "executionInfo": {
     "elapsed": 2649,
     "status": "ok",
     "timestamp": 1593442601873,
     "user": {
      "displayName": "Julian Velasquez",
      "photoUrl": "",
      "userId": "11029812688284237125"
     },
     "user_tz": 300
    },
    "id": "VmL5ofeQpORI",
    "outputId": "cbffe2bd-8162-42c1-c19b-feb7c0f0e274"
   },
   "outputs": [
    {
     "data": {
      "text/plain": [
       "<matplotlib.axes._subplots.AxesSubplot at 0x19ff81a63c8>"
      ]
     },
     "execution_count": 7,
     "metadata": {},
     "output_type": "execute_result"
    },
    {
     "data": {
      "image/png": "[encoded data removed]",
      "text/plain": [
       "<Figure size 432x288 with 1 Axes>"
      ]
     },
     "metadata": {
      "needs_background": "light"
     },
     "output_type": "display_data"
    }
   ],
   "source": [
    "data.plot(kind='scatter', y='Price', x='Mileage')"
   ]
  },
  {
   "cell_type": "code",
   "execution_count": 19,
   "metadata": {
    "colab": {
     "base_uri": "https://localhost:8080/",
     "height": 34
    },
    "colab_type": "code",
    "executionInfo": {
     "elapsed": 498,
     "status": "ok",
     "timestamp": 1593442603183,
     "user": {
      "displayName": "Julian Velasquez",
      "photoUrl": "",
      "userId": "11029812688284237125"
     },
     "user_tz": 300
    },
    "id": "M6U-PqJEpORQ",
    "outputId": "77d4f942-3ee9-4bea-f10f-3375cc4749e0"
   },
   "outputs": [
    {
     "data": {
      "text/plain": [
       "Index(['Price', 'Year', 'Mileage', 'State', 'Make', 'Model'], dtype='object')"
      ]
     },
     "execution_count": 19,
     "metadata": {},
     "output_type": "execute_result"
    }
   ],
   "source": [
    "data.columns"
   ]
  },
  {
   "cell_type": "markdown",
   "metadata": {
    "colab_type": "text",
    "id": "wg6CRa_NpORV"
   },
   "source": [
    "# Exercise P2.1 (50%)\n",
    "\n",
    "Develop a machine learning model that predicts the price of the of car using as an input ['Year', 'Mileage', 'State', 'Make', 'Model']\n",
    "\n",
    "#### Evaluation:\n",
    "- 25% - Performance of the models using a manually implemented K-Fold (K=10) cross-validation\n",
    "- 25% - Notebook explaining the process for selecting the best model. You must specify how the calibration of each of the parameters is done and how these change the performance of the model. It is expected that a clear comparison will be made of all implemented models.. Present the most relevant conslusions about the whole process. \n"
   ]
  },
  {
   "cell_type": "markdown",
   "metadata": {
    "colab": {},
    "colab_type": "code",
    "executionInfo": {
     "elapsed": 981,
     "status": "ok",
     "timestamp": 1593442607259,
     "user": {
      "displayName": "Julian Velasquez",
      "photoUrl": "",
      "userId": "11029812688284237125"
     },
     "user_tz": 300
    },
    "id": "phhC5OuHpORX"
   },
   "source": [
    "## Solution"
   ]
  },
  {
   "cell_type": "markdown",
   "metadata": {},
   "source": [
    "### Trnasforming the Cathegorical data into numbers fro using lateri n the model"
   ]
  },
  {
   "cell_type": "code",
   "execution_count": 20,
   "metadata": {
    "colab": {},
    "colab_type": "code",
    "executionInfo": {
     "elapsed": 981,
     "status": "ok",
     "timestamp": 1593442607259,
     "user": {
      "displayName": "Julian Velasquez",
      "photoUrl": "",
      "userId": "11029812688284237125"
     },
     "user_tz": 300
    },
    "id": "phhC5OuHpORX"
   },
   "outputs": [],
   "source": [
    "data['State'] = pd.factorize(data.State)[0]\n",
    "data['Make'] = pd.factorize(data.Make)[0]\n",
    "data['Model'] = pd.factorize(data.Model)[0]"
   ]
  },
  {
   "cell_type": "code",
   "execution_count": 10,
   "metadata": {
    "colab": {
     "base_uri": "https://localhost:8080/",
     "height": 204
    },
    "colab_type": "code",
    "executionInfo": {
     "elapsed": 1102,
     "status": "ok",
     "timestamp": 1593442608912,
     "user": {
      "displayName": "Julian Velasquez",
      "photoUrl": "",
      "userId": "11029812688284237125"
     },
     "user_tz": 300
    },
    "id": "7KPsGtyopORj",
    "outputId": "359173e3-3f14-4e8d-aed0-6370b295b981"
   },
   "outputs": [
    {
     "data": {
      "text/html": [
       "<div>\n",
       "<style scoped>\n",
       "    .dataframe tbody tr th:only-of-type {\n",
       "        vertical-align: middle;\n",
       "    }\n",
       "\n",
       "    .dataframe tbody tr th {\n",
       "        vertical-align: top;\n",
       "    }\n",
       "\n",
       "    .dataframe thead th {\n",
       "        text-align: right;\n",
       "    }\n",
       "</style>\n",
       "<table border=\"1\" class=\"dataframe\">\n",
       "  <thead>\n",
       "    <tr style=\"text-align: right;\">\n",
       "      <th></th>\n",
       "      <th>Price</th>\n",
       "      <th>Year</th>\n",
       "      <th>Mileage</th>\n",
       "      <th>State</th>\n",
       "      <th>Make</th>\n",
       "      <th>Model</th>\n",
       "    </tr>\n",
       "  </thead>\n",
       "  <tbody>\n",
       "    <tr>\n",
       "      <td>0</td>\n",
       "      <td>21490</td>\n",
       "      <td>2014</td>\n",
       "      <td>31909</td>\n",
       "      <td>0</td>\n",
       "      <td>0</td>\n",
       "      <td>0</td>\n",
       "    </tr>\n",
       "    <tr>\n",
       "      <td>1</td>\n",
       "      <td>21250</td>\n",
       "      <td>2016</td>\n",
       "      <td>25741</td>\n",
       "      <td>1</td>\n",
       "      <td>1</td>\n",
       "      <td>1</td>\n",
       "    </tr>\n",
       "    <tr>\n",
       "      <td>2</td>\n",
       "      <td>20925</td>\n",
       "      <td>2016</td>\n",
       "      <td>24633</td>\n",
       "      <td>2</td>\n",
       "      <td>2</td>\n",
       "      <td>2</td>\n",
       "    </tr>\n",
       "    <tr>\n",
       "      <td>3</td>\n",
       "      <td>14500</td>\n",
       "      <td>2012</td>\n",
       "      <td>84026</td>\n",
       "      <td>3</td>\n",
       "      <td>3</td>\n",
       "      <td>3</td>\n",
       "    </tr>\n",
       "    <tr>\n",
       "      <td>4</td>\n",
       "      <td>32488</td>\n",
       "      <td>2013</td>\n",
       "      <td>22816</td>\n",
       "      <td>4</td>\n",
       "      <td>3</td>\n",
       "      <td>4</td>\n",
       "    </tr>\n",
       "  </tbody>\n",
       "</table>\n",
       "</div>"
      ],
      "text/plain": [
       "   Price  Year  Mileage  State  Make  Model\n",
       "0  21490  2014    31909      0     0      0\n",
       "1  21250  2016    25741      1     1      1\n",
       "2  20925  2016    24633      2     2      2\n",
       "3  14500  2012    84026      3     3      3\n",
       "4  32488  2013    22816      4     3      4"
      ]
     },
     "execution_count": 10,
     "metadata": {},
     "output_type": "execute_result"
    }
   ],
   "source": [
    "data.head()"
   ]
  },
  {
   "cell_type": "code",
   "execution_count": 21,
   "metadata": {
    "colab": {},
    "colab_type": "code",
    "executionInfo": {
     "elapsed": 739,
     "status": "ok",
     "timestamp": 1593442612825,
     "user": {
      "displayName": "Julian Velasquez",
      "photoUrl": "",
      "userId": "11029812688284237125"
     },
     "user_tz": 300
    },
    "id": "gsB7d1xFwtiI"
   },
   "outputs": [],
   "source": [
    "# Convertimos el DataFrame en arreglos numpy.\n",
    "X_Total = data.drop(\"Price\",axis = 1).to_numpy()\n",
    "Y_Total = data[\"Price\"].to_numpy()"
   ]
  },
  {
   "cell_type": "code",
   "execution_count": 22,
   "metadata": {
    "colab": {
     "base_uri": "https://localhost:8080/",
     "height": 406
    },
    "colab_type": "code",
    "executionInfo": {
     "elapsed": 658,
     "status": "ok",
     "timestamp": 1593404833170,
     "user": {
      "displayName": "Julian Velasquez",
      "photoUrl": "",
      "userId": "11029812688284237125"
     },
     "user_tz": 300
    },
    "id": "OOVJZWvCVBM3",
    "outputId": "15762f55-05e3-41af-de8a-1e3459cc9621"
   },
   "outputs": [
    {
     "data": {
      "text/html": [
       "<div>\n",
       "<style scoped>\n",
       "    .dataframe tbody tr th:only-of-type {\n",
       "        vertical-align: middle;\n",
       "    }\n",
       "\n",
       "    .dataframe tbody tr th {\n",
       "        vertical-align: top;\n",
       "    }\n",
       "\n",
       "    .dataframe thead th {\n",
       "        text-align: right;\n",
       "    }\n",
       "</style>\n",
       "<table border=\"1\" class=\"dataframe\">\n",
       "  <thead>\n",
       "    <tr style=\"text-align: right;\">\n",
       "      <th></th>\n",
       "      <th>Price</th>\n",
       "      <th>Year</th>\n",
       "      <th>Mileage</th>\n",
       "      <th>State</th>\n",
       "      <th>Make</th>\n",
       "      <th>Model</th>\n",
       "    </tr>\n",
       "  </thead>\n",
       "  <tbody>\n",
       "    <tr>\n",
       "      <td>115790</td>\n",
       "      <td>28488</td>\n",
       "      <td>2017</td>\n",
       "      <td>20411</td>\n",
       "      <td>13</td>\n",
       "      <td>8</td>\n",
       "      <td>17</td>\n",
       "    </tr>\n",
       "    <tr>\n",
       "      <td>127117</td>\n",
       "      <td>17500</td>\n",
       "      <td>2010</td>\n",
       "      <td>114144</td>\n",
       "      <td>9</td>\n",
       "      <td>1</td>\n",
       "      <td>123</td>\n",
       "    </tr>\n",
       "    <tr>\n",
       "      <td>183083</td>\n",
       "      <td>15195</td>\n",
       "      <td>2011</td>\n",
       "      <td>88137</td>\n",
       "      <td>15</td>\n",
       "      <td>9</td>\n",
       "      <td>68</td>\n",
       "    </tr>\n",
       "    <tr>\n",
       "      <td>95303</td>\n",
       "      <td>15977</td>\n",
       "      <td>2011</td>\n",
       "      <td>47684</td>\n",
       "      <td>37</td>\n",
       "      <td>9</td>\n",
       "      <td>186</td>\n",
       "    </tr>\n",
       "    <tr>\n",
       "      <td>70999</td>\n",
       "      <td>21988</td>\n",
       "      <td>2011</td>\n",
       "      <td>89797</td>\n",
       "      <td>24</td>\n",
       "      <td>1</td>\n",
       "      <td>13</td>\n",
       "    </tr>\n",
       "    <tr>\n",
       "      <td>...</td>\n",
       "      <td>...</td>\n",
       "      <td>...</td>\n",
       "      <td>...</td>\n",
       "      <td>...</td>\n",
       "      <td>...</td>\n",
       "      <td>...</td>\n",
       "    </tr>\n",
       "    <tr>\n",
       "      <td>363016</td>\n",
       "      <td>16432</td>\n",
       "      <td>2017</td>\n",
       "      <td>1498</td>\n",
       "      <td>20</td>\n",
       "      <td>1</td>\n",
       "      <td>32</td>\n",
       "    </tr>\n",
       "    <tr>\n",
       "      <td>366379</td>\n",
       "      <td>5495</td>\n",
       "      <td>2008</td>\n",
       "      <td>132904</td>\n",
       "      <td>27</td>\n",
       "      <td>1</td>\n",
       "      <td>119</td>\n",
       "    </tr>\n",
       "    <tr>\n",
       "      <td>211356</td>\n",
       "      <td>16197</td>\n",
       "      <td>2017</td>\n",
       "      <td>17764</td>\n",
       "      <td>5</td>\n",
       "      <td>1</td>\n",
       "      <td>32</td>\n",
       "    </tr>\n",
       "    <tr>\n",
       "      <td>378494</td>\n",
       "      <td>15999</td>\n",
       "      <td>2014</td>\n",
       "      <td>43262</td>\n",
       "      <td>2</td>\n",
       "      <td>4</td>\n",
       "      <td>73</td>\n",
       "    </tr>\n",
       "    <tr>\n",
       "      <td>220107</td>\n",
       "      <td>25900</td>\n",
       "      <td>2015</td>\n",
       "      <td>16102</td>\n",
       "      <td>17</td>\n",
       "      <td>7</td>\n",
       "      <td>328</td>\n",
       "    </tr>\n",
       "  </tbody>\n",
       "</table>\n",
       "<p>500000 rows × 6 columns</p>\n",
       "</div>"
      ],
      "text/plain": [
       "        Price  Year  Mileage  State  Make  Model\n",
       "115790  28488  2017    20411     13     8     17\n",
       "127117  17500  2010   114144      9     1    123\n",
       "183083  15195  2011    88137     15     9     68\n",
       "95303   15977  2011    47684     37     9    186\n",
       "70999   21988  2011    89797     24     1     13\n",
       "...       ...   ...      ...    ...   ...    ...\n",
       "363016  16432  2017     1498     20     1     32\n",
       "366379   5495  2008   132904     27     1    119\n",
       "211356  16197  2017    17764      5     1     32\n",
       "378494  15999  2014    43262      2     4     73\n",
       "220107  25900  2015    16102     17     7    328\n",
       "\n",
       "[500000 rows x 6 columns]"
      ]
     },
     "execution_count": 22,
     "metadata": {},
     "output_type": "execute_result"
    }
   ],
   "source": [
    "data.sample(frac=1)"
   ]
  },
  {
   "cell_type": "code",
   "execution_count": 23,
   "metadata": {
    "colab": {
     "base_uri": "https://localhost:8080/",
     "height": 204
    },
    "colab_type": "code",
    "executionInfo": {
     "elapsed": 725,
     "status": "ok",
     "timestamp": 1593442627719,
     "user": {
      "displayName": "Julian Velasquez",
      "photoUrl": "",
      "userId": "11029812688284237125"
     },
     "user_tz": 300
    },
    "id": "-Q5bxK9_VdAE",
    "outputId": "0e8b2065-23fa-4ea9-ef42-85d03ca58eaa"
   },
   "outputs": [
    {
     "data": {
      "text/html": [
       "<div>\n",
       "<style scoped>\n",
       "    .dataframe tbody tr th:only-of-type {\n",
       "        vertical-align: middle;\n",
       "    }\n",
       "\n",
       "    .dataframe tbody tr th {\n",
       "        vertical-align: top;\n",
       "    }\n",
       "\n",
       "    .dataframe thead th {\n",
       "        text-align: right;\n",
       "    }\n",
       "</style>\n",
       "<table border=\"1\" class=\"dataframe\">\n",
       "  <thead>\n",
       "    <tr style=\"text-align: right;\">\n",
       "      <th></th>\n",
       "      <th>Price</th>\n",
       "      <th>Year</th>\n",
       "      <th>Mileage</th>\n",
       "      <th>State</th>\n",
       "      <th>Make</th>\n",
       "      <th>Model</th>\n",
       "    </tr>\n",
       "  </thead>\n",
       "  <tbody>\n",
       "    <tr>\n",
       "      <td>0</td>\n",
       "      <td>51894</td>\n",
       "      <td>2016</td>\n",
       "      <td>18493</td>\n",
       "      <td>36</td>\n",
       "      <td>8</td>\n",
       "      <td>201</td>\n",
       "    </tr>\n",
       "    <tr>\n",
       "      <td>1</td>\n",
       "      <td>17898</td>\n",
       "      <td>2016</td>\n",
       "      <td>56348</td>\n",
       "      <td>7</td>\n",
       "      <td>10</td>\n",
       "      <td>33</td>\n",
       "    </tr>\n",
       "    <tr>\n",
       "      <td>2</td>\n",
       "      <td>15337</td>\n",
       "      <td>2017</td>\n",
       "      <td>15089</td>\n",
       "      <td>9</td>\n",
       "      <td>4</td>\n",
       "      <td>356</td>\n",
       "    </tr>\n",
       "    <tr>\n",
       "      <td>3</td>\n",
       "      <td>15995</td>\n",
       "      <td>2013</td>\n",
       "      <td>54194</td>\n",
       "      <td>8</td>\n",
       "      <td>16</td>\n",
       "      <td>38</td>\n",
       "    </tr>\n",
       "    <tr>\n",
       "      <td>4</td>\n",
       "      <td>18995</td>\n",
       "      <td>2015</td>\n",
       "      <td>58900</td>\n",
       "      <td>22</td>\n",
       "      <td>1</td>\n",
       "      <td>111</td>\n",
       "    </tr>\n",
       "  </tbody>\n",
       "</table>\n",
       "</div>"
      ],
      "text/plain": [
       "   Price  Year  Mileage  State  Make  Model\n",
       "0  51894  2016    18493     36     8    201\n",
       "1  17898  2016    56348      7    10     33\n",
       "2  15337  2017    15089      9     4    356\n",
       "3  15995  2013    54194      8    16     38\n",
       "4  18995  2015    58900     22     1    111"
      ]
     },
     "execution_count": 23,
     "metadata": {},
     "output_type": "execute_result"
    }
   ],
   "source": [
    "frac = 0.1\n",
    "data_sample = data.sample(frac=frac).reset_index(drop=True)\n",
    "data_sample.head()"
   ]
  },
  {
   "cell_type": "code",
   "execution_count": 24,
   "metadata": {
    "colab": {
     "base_uri": "https://localhost:8080/",
     "height": 34
    },
    "colab_type": "code",
    "executionInfo": {
     "elapsed": 880,
     "status": "ok",
     "timestamp": 1593442635549,
     "user": {
      "displayName": "Julian Velasquez",
      "photoUrl": "",
      "userId": "11029812688284237125"
     },
     "user_tz": 300
    },
    "id": "dxDuCT1rWzTF",
    "outputId": "344ad32e-e101-47cc-fe1e-97e83e79e372"
   },
   "outputs": [
    {
     "data": {
      "text/plain": [
       "RangeIndex(start=0, stop=50000, step=1)"
      ]
     },
     "execution_count": 24,
     "metadata": {},
     "output_type": "execute_result"
    }
   ],
   "source": [
    "data_sample.index"
   ]
  },
  {
   "cell_type": "code",
   "execution_count": 25,
   "metadata": {
    "colab": {},
    "colab_type": "code",
    "executionInfo": {
     "elapsed": 842,
     "status": "ok",
     "timestamp": 1593447666925,
     "user": {
      "displayName": "Julian Velasquez",
      "photoUrl": "",
      "userId": "11029812688284237125"
     },
     "user_tz": 300
    },
    "id": "ZvWBpjsdtDpi"
   },
   "outputs": [],
   "source": [
    "from sklearn.metrics import mean_squared_error\n",
    "from sklearn.ensemble import RandomForestRegressor\n",
    "from matplotlib import pyplot as plt\n",
    "import numpy as np"
   ]
  },
  {
   "cell_type": "markdown",
   "metadata": {
    "colab_type": "text",
    "id": "W7Z0nxieuhT0"
   },
   "source": [
    "#### Random Forest"
   ]
  },
  {
   "cell_type": "code",
   "execution_count": 16,
   "metadata": {
    "colab": {
     "base_uri": "https://localhost:8080/",
     "height": 1000
    },
    "colab_type": "code",
    "executionInfo": {
     "elapsed": 1119516,
     "status": "ok",
     "timestamp": 1593410138274,
     "user": {
      "displayName": "Julian Velasquez",
      "photoUrl": "",
      "userId": "11029812688284237125"
     },
     "user_tz": 300
    },
    "id": "KGsKJbiWWmz3",
    "outputId": "d44247d1-599c-4df0-845f-5b6522440d02"
   },
   "outputs": [
    {
     "name": "stdout",
     "output_type": "stream",
     "text": [
      "   Price  Year  Mileage  State  Make  Model\n",
      "0  18388  2014    19649     19     4     18\n",
      "1  12995  2013    74347     13     9    101\n",
      "2  27995  2015    51649     17     3      3\n",
      "3   8900  2009   104406      7     1    246\n",
      "4  21980  2016    30166     24     0    369\n",
      "      Price  Year  Mileage  State  Make  Model\n",
      "4995  13580  2013    63726      5     2      2\n",
      "4996  12991  2007    81019     13     4    106\n",
      "4997  47740  2017     9747     23     6    107\n",
      "4998  19995  2016    21059     25     1    121\n",
      "4999  24595  2017    27808      5     4     91\n",
      "18364944.28540148\n",
      "18292676.708971642\n",
      "18276721.630994536\n",
      "18232051.40858608\n",
      "      Price  Year  Mileage  State  Make  Model\n",
      "5000  12998  2015    65452     22     1    135\n",
      "5001   9892  2001   319398      9     4     11\n",
      "5002  27831  2015    34246      6     8     12\n",
      "5003  20999  2015    30766     32    10     33\n",
      "5004  22928  2016    29580      8     8    139\n",
      "      Price  Year  Mileage  State  Make  Model\n",
      "9995  18993  2012    38256     20     1    367\n",
      "9996  30988  2015    27055     19     3      4\n",
      "9997  22400  2016    51076      5     4    106\n",
      "9998  29012  2015    18540     21     0     16\n",
      "9999  18200  2017    17013     13     1     53\n",
      "17650979.057519358\n",
      "17644208.41440621\n",
      "17572297.102964785\n",
      "17591294.522493698\n",
      "       Price  Year  Mileage  State  Make  Model\n",
      "10000  18267  2017    34151     24     2      2\n",
      "10001  13964  2014    70251     23     5    256\n",
      "10002  22491  2008    80444     35     9    115\n",
      "10003  10487  2003   115037     16     9     55\n",
      "10004   9944  2013    71412     23     1    212\n",
      "       Price  Year  Mileage  State  Make  Model\n",
      "14995  41989  2017     6944      9     8     12\n",
      "14996  16981  2010    21847      5     1     13\n",
      "14997   6989  2014    69272      9     1    200\n",
      "14998  16999  2017    17627     24     3    136\n",
      "14999  10295  2007    86745      0     4    155\n",
      "18959654.45445704\n",
      "18919024.825888842\n",
      "18809860.311589204\n",
      "18792288.997557387\n",
      "       Price  Year  Mileage  State  Make  Model\n",
      "15000   6995  2008   116000     22     9    243\n",
      "15001  45998  2017    16928     13     1    273\n",
      "15002  23498  2016    28019     17     3      3\n",
      "15003  27333  2016     1234     23    10    157\n",
      "15004  12875  2010    65589     12    14    102\n",
      "       Price  Year  Mileage  State  Make  Model\n",
      "19995  32778  2017    18288     13     4     20\n",
      "19996  19990  2012    84692      0     4      5\n",
      "19997   8800  2006   113800      9    22     86\n",
      "19998  12999  2010   114980     27     9     82\n",
      "19999  12744  2014    75909     23     2    230\n",
      "18000931.41556098\n"
     ]
    },
    {
     "ename": "KeyboardInterrupt",
     "evalue": "",
     "output_type": "error",
     "traceback": [
      "\u001b[1;31m---------------------------------------------------------------------------\u001b[0m",
      "\u001b[1;31mKeyboardInterrupt\u001b[0m                         Traceback (most recent call last)",
      "\u001b[1;32m<ipython-input-16-a6e541571a72>\u001b[0m in \u001b[0;36m<module>\u001b[1;34m\u001b[0m\n\u001b[0;32m     19\u001b[0m   \u001b[1;32mfor\u001b[0m \u001b[0mestimator\u001b[0m \u001b[1;32min\u001b[0m \u001b[0mestimator_range\u001b[0m\u001b[1;33m:\u001b[0m\u001b[1;33m\u001b[0m\u001b[1;33m\u001b[0m\u001b[0m\n\u001b[0;32m     20\u001b[0m         \u001b[0mclf\u001b[0m \u001b[1;33m=\u001b[0m \u001b[0mRandomForestRegressor\u001b[0m\u001b[1;33m(\u001b[0m\u001b[0mn_estimators\u001b[0m\u001b[1;33m=\u001b[0m\u001b[0mestimator\u001b[0m\u001b[1;33m,\u001b[0m \u001b[0mrandom_state\u001b[0m\u001b[1;33m=\u001b[0m\u001b[1;36m1\u001b[0m\u001b[1;33m,\u001b[0m \u001b[0mn_jobs\u001b[0m\u001b[1;33m=\u001b[0m\u001b[1;33m-\u001b[0m\u001b[1;36m1\u001b[0m\u001b[1;33m)\u001b[0m\u001b[1;33m\u001b[0m\u001b[1;33m\u001b[0m\u001b[0m\n\u001b[1;32m---> 21\u001b[1;33m         \u001b[0mclf\u001b[0m\u001b[1;33m.\u001b[0m\u001b[0mfit\u001b[0m\u001b[1;33m(\u001b[0m\u001b[0mX_train\u001b[0m\u001b[1;33m,\u001b[0m\u001b[0mY_train\u001b[0m\u001b[1;33m)\u001b[0m\u001b[1;33m\u001b[0m\u001b[1;33m\u001b[0m\u001b[0m\n\u001b[0m\u001b[0;32m     22\u001b[0m         \u001b[0my_pred\u001b[0m \u001b[1;33m=\u001b[0m \u001b[0mclf\u001b[0m\u001b[1;33m.\u001b[0m\u001b[0mpredict\u001b[0m\u001b[1;33m(\u001b[0m\u001b[0mX_test\u001b[0m\u001b[1;33m)\u001b[0m\u001b[1;33m\u001b[0m\u001b[1;33m\u001b[0m\u001b[0m\n\u001b[0;32m     23\u001b[0m         \u001b[0merror\u001b[0m \u001b[1;33m=\u001b[0m \u001b[0mmean_squared_error\u001b[0m\u001b[1;33m(\u001b[0m\u001b[0mY_test\u001b[0m\u001b[1;33m,\u001b[0m\u001b[0my_pred\u001b[0m\u001b[1;33m)\u001b[0m\u001b[1;33m\u001b[0m\u001b[1;33m\u001b[0m\u001b[0m\n",
      "\u001b[1;32m~\\Anaconda3\\lib\\site-packages\\sklearn\\ensemble\\forest.py\u001b[0m in \u001b[0;36mfit\u001b[1;34m(self, X, y, sample_weight)\u001b[0m\n\u001b[0;32m    328\u001b[0m                     \u001b[0mt\u001b[0m\u001b[1;33m,\u001b[0m \u001b[0mself\u001b[0m\u001b[1;33m,\u001b[0m \u001b[0mX\u001b[0m\u001b[1;33m,\u001b[0m \u001b[0my\u001b[0m\u001b[1;33m,\u001b[0m \u001b[0msample_weight\u001b[0m\u001b[1;33m,\u001b[0m \u001b[0mi\u001b[0m\u001b[1;33m,\u001b[0m \u001b[0mlen\u001b[0m\u001b[1;33m(\u001b[0m\u001b[0mtrees\u001b[0m\u001b[1;33m)\u001b[0m\u001b[1;33m,\u001b[0m\u001b[1;33m\u001b[0m\u001b[1;33m\u001b[0m\u001b[0m\n\u001b[0;32m    329\u001b[0m                     verbose=self.verbose, class_weight=self.class_weight)\n\u001b[1;32m--> 330\u001b[1;33m                 for i, t in enumerate(trees))\n\u001b[0m\u001b[0;32m    331\u001b[0m \u001b[1;33m\u001b[0m\u001b[0m\n\u001b[0;32m    332\u001b[0m             \u001b[1;31m# Collect newly grown trees\u001b[0m\u001b[1;33m\u001b[0m\u001b[1;33m\u001b[0m\u001b[1;33m\u001b[0m\u001b[0m\n",
      "\u001b[1;32m~\\Anaconda3\\lib\\site-packages\\joblib\\parallel.py\u001b[0m in \u001b[0;36m__call__\u001b[1;34m(self, iterable)\u001b[0m\n\u001b[0;32m    932\u001b[0m \u001b[1;33m\u001b[0m\u001b[0m\n\u001b[0;32m    933\u001b[0m             \u001b[1;32mwith\u001b[0m \u001b[0mself\u001b[0m\u001b[1;33m.\u001b[0m\u001b[0m_backend\u001b[0m\u001b[1;33m.\u001b[0m\u001b[0mretrieval_context\u001b[0m\u001b[1;33m(\u001b[0m\u001b[1;33m)\u001b[0m\u001b[1;33m:\u001b[0m\u001b[1;33m\u001b[0m\u001b[1;33m\u001b[0m\u001b[0m\n\u001b[1;32m--> 934\u001b[1;33m                 \u001b[0mself\u001b[0m\u001b[1;33m.\u001b[0m\u001b[0mretrieve\u001b[0m\u001b[1;33m(\u001b[0m\u001b[1;33m)\u001b[0m\u001b[1;33m\u001b[0m\u001b[1;33m\u001b[0m\u001b[0m\n\u001b[0m\u001b[0;32m    935\u001b[0m             \u001b[1;31m# Make sure that we get a last message telling us we are done\u001b[0m\u001b[1;33m\u001b[0m\u001b[1;33m\u001b[0m\u001b[1;33m\u001b[0m\u001b[0m\n\u001b[0;32m    936\u001b[0m             \u001b[0melapsed_time\u001b[0m \u001b[1;33m=\u001b[0m \u001b[0mtime\u001b[0m\u001b[1;33m.\u001b[0m\u001b[0mtime\u001b[0m\u001b[1;33m(\u001b[0m\u001b[1;33m)\u001b[0m \u001b[1;33m-\u001b[0m \u001b[0mself\u001b[0m\u001b[1;33m.\u001b[0m\u001b[0m_start_time\u001b[0m\u001b[1;33m\u001b[0m\u001b[1;33m\u001b[0m\u001b[0m\n",
      "\u001b[1;32m~\\Anaconda3\\lib\\site-packages\\joblib\\parallel.py\u001b[0m in \u001b[0;36mretrieve\u001b[1;34m(self)\u001b[0m\n\u001b[0;32m    831\u001b[0m             \u001b[1;32mtry\u001b[0m\u001b[1;33m:\u001b[0m\u001b[1;33m\u001b[0m\u001b[1;33m\u001b[0m\u001b[0m\n\u001b[0;32m    832\u001b[0m                 \u001b[1;32mif\u001b[0m \u001b[0mgetattr\u001b[0m\u001b[1;33m(\u001b[0m\u001b[0mself\u001b[0m\u001b[1;33m.\u001b[0m\u001b[0m_backend\u001b[0m\u001b[1;33m,\u001b[0m \u001b[1;34m'supports_timeout'\u001b[0m\u001b[1;33m,\u001b[0m \u001b[1;32mFalse\u001b[0m\u001b[1;33m)\u001b[0m\u001b[1;33m:\u001b[0m\u001b[1;33m\u001b[0m\u001b[1;33m\u001b[0m\u001b[0m\n\u001b[1;32m--> 833\u001b[1;33m                     \u001b[0mself\u001b[0m\u001b[1;33m.\u001b[0m\u001b[0m_output\u001b[0m\u001b[1;33m.\u001b[0m\u001b[0mextend\u001b[0m\u001b[1;33m(\u001b[0m\u001b[0mjob\u001b[0m\u001b[1;33m.\u001b[0m\u001b[0mget\u001b[0m\u001b[1;33m(\u001b[0m\u001b[0mtimeout\u001b[0m\u001b[1;33m=\u001b[0m\u001b[0mself\u001b[0m\u001b[1;33m.\u001b[0m\u001b[0mtimeout\u001b[0m\u001b[1;33m)\u001b[0m\u001b[1;33m)\u001b[0m\u001b[1;33m\u001b[0m\u001b[1;33m\u001b[0m\u001b[0m\n\u001b[0m\u001b[0;32m    834\u001b[0m                 \u001b[1;32melse\u001b[0m\u001b[1;33m:\u001b[0m\u001b[1;33m\u001b[0m\u001b[1;33m\u001b[0m\u001b[0m\n\u001b[0;32m    835\u001b[0m                     \u001b[0mself\u001b[0m\u001b[1;33m.\u001b[0m\u001b[0m_output\u001b[0m\u001b[1;33m.\u001b[0m\u001b[0mextend\u001b[0m\u001b[1;33m(\u001b[0m\u001b[0mjob\u001b[0m\u001b[1;33m.\u001b[0m\u001b[0mget\u001b[0m\u001b[1;33m(\u001b[0m\u001b[1;33m)\u001b[0m\u001b[1;33m)\u001b[0m\u001b[1;33m\u001b[0m\u001b[1;33m\u001b[0m\u001b[0m\n",
      "\u001b[1;32m~\\Anaconda3\\lib\\multiprocessing\\pool.py\u001b[0m in \u001b[0;36mget\u001b[1;34m(self, timeout)\u001b[0m\n\u001b[0;32m    649\u001b[0m \u001b[1;33m\u001b[0m\u001b[0m\n\u001b[0;32m    650\u001b[0m     \u001b[1;32mdef\u001b[0m \u001b[0mget\u001b[0m\u001b[1;33m(\u001b[0m\u001b[0mself\u001b[0m\u001b[1;33m,\u001b[0m \u001b[0mtimeout\u001b[0m\u001b[1;33m=\u001b[0m\u001b[1;32mNone\u001b[0m\u001b[1;33m)\u001b[0m\u001b[1;33m:\u001b[0m\u001b[1;33m\u001b[0m\u001b[1;33m\u001b[0m\u001b[0m\n\u001b[1;32m--> 651\u001b[1;33m         \u001b[0mself\u001b[0m\u001b[1;33m.\u001b[0m\u001b[0mwait\u001b[0m\u001b[1;33m(\u001b[0m\u001b[0mtimeout\u001b[0m\u001b[1;33m)\u001b[0m\u001b[1;33m\u001b[0m\u001b[1;33m\u001b[0m\u001b[0m\n\u001b[0m\u001b[0;32m    652\u001b[0m         \u001b[1;32mif\u001b[0m \u001b[1;32mnot\u001b[0m \u001b[0mself\u001b[0m\u001b[1;33m.\u001b[0m\u001b[0mready\u001b[0m\u001b[1;33m(\u001b[0m\u001b[1;33m)\u001b[0m\u001b[1;33m:\u001b[0m\u001b[1;33m\u001b[0m\u001b[1;33m\u001b[0m\u001b[0m\n\u001b[0;32m    653\u001b[0m             \u001b[1;32mraise\u001b[0m \u001b[0mTimeoutError\u001b[0m\u001b[1;33m\u001b[0m\u001b[1;33m\u001b[0m\u001b[0m\n",
      "\u001b[1;32m~\\Anaconda3\\lib\\multiprocessing\\pool.py\u001b[0m in \u001b[0;36mwait\u001b[1;34m(self, timeout)\u001b[0m\n\u001b[0;32m    646\u001b[0m \u001b[1;33m\u001b[0m\u001b[0m\n\u001b[0;32m    647\u001b[0m     \u001b[1;32mdef\u001b[0m \u001b[0mwait\u001b[0m\u001b[1;33m(\u001b[0m\u001b[0mself\u001b[0m\u001b[1;33m,\u001b[0m \u001b[0mtimeout\u001b[0m\u001b[1;33m=\u001b[0m\u001b[1;32mNone\u001b[0m\u001b[1;33m)\u001b[0m\u001b[1;33m:\u001b[0m\u001b[1;33m\u001b[0m\u001b[1;33m\u001b[0m\u001b[0m\n\u001b[1;32m--> 648\u001b[1;33m         \u001b[0mself\u001b[0m\u001b[1;33m.\u001b[0m\u001b[0m_event\u001b[0m\u001b[1;33m.\u001b[0m\u001b[0mwait\u001b[0m\u001b[1;33m(\u001b[0m\u001b[0mtimeout\u001b[0m\u001b[1;33m)\u001b[0m\u001b[1;33m\u001b[0m\u001b[1;33m\u001b[0m\u001b[0m\n\u001b[0m\u001b[0;32m    649\u001b[0m \u001b[1;33m\u001b[0m\u001b[0m\n\u001b[0;32m    650\u001b[0m     \u001b[1;32mdef\u001b[0m \u001b[0mget\u001b[0m\u001b[1;33m(\u001b[0m\u001b[0mself\u001b[0m\u001b[1;33m,\u001b[0m \u001b[0mtimeout\u001b[0m\u001b[1;33m=\u001b[0m\u001b[1;32mNone\u001b[0m\u001b[1;33m)\u001b[0m\u001b[1;33m:\u001b[0m\u001b[1;33m\u001b[0m\u001b[1;33m\u001b[0m\u001b[0m\n",
      "\u001b[1;32m~\\Anaconda3\\lib\\threading.py\u001b[0m in \u001b[0;36mwait\u001b[1;34m(self, timeout)\u001b[0m\n\u001b[0;32m    550\u001b[0m             \u001b[0msignaled\u001b[0m \u001b[1;33m=\u001b[0m \u001b[0mself\u001b[0m\u001b[1;33m.\u001b[0m\u001b[0m_flag\u001b[0m\u001b[1;33m\u001b[0m\u001b[1;33m\u001b[0m\u001b[0m\n\u001b[0;32m    551\u001b[0m             \u001b[1;32mif\u001b[0m \u001b[1;32mnot\u001b[0m \u001b[0msignaled\u001b[0m\u001b[1;33m:\u001b[0m\u001b[1;33m\u001b[0m\u001b[1;33m\u001b[0m\u001b[0m\n\u001b[1;32m--> 552\u001b[1;33m                 \u001b[0msignaled\u001b[0m \u001b[1;33m=\u001b[0m \u001b[0mself\u001b[0m\u001b[1;33m.\u001b[0m\u001b[0m_cond\u001b[0m\u001b[1;33m.\u001b[0m\u001b[0mwait\u001b[0m\u001b[1;33m(\u001b[0m\u001b[0mtimeout\u001b[0m\u001b[1;33m)\u001b[0m\u001b[1;33m\u001b[0m\u001b[1;33m\u001b[0m\u001b[0m\n\u001b[0m\u001b[0;32m    553\u001b[0m             \u001b[1;32mreturn\u001b[0m \u001b[0msignaled\u001b[0m\u001b[1;33m\u001b[0m\u001b[1;33m\u001b[0m\u001b[0m\n\u001b[0;32m    554\u001b[0m \u001b[1;33m\u001b[0m\u001b[0m\n",
      "\u001b[1;32m~\\Anaconda3\\lib\\threading.py\u001b[0m in \u001b[0;36mwait\u001b[1;34m(self, timeout)\u001b[0m\n\u001b[0;32m    294\u001b[0m         \u001b[1;32mtry\u001b[0m\u001b[1;33m:\u001b[0m    \u001b[1;31m# restore state no matter what (e.g., KeyboardInterrupt)\u001b[0m\u001b[1;33m\u001b[0m\u001b[1;33m\u001b[0m\u001b[0m\n\u001b[0;32m    295\u001b[0m             \u001b[1;32mif\u001b[0m \u001b[0mtimeout\u001b[0m \u001b[1;32mis\u001b[0m \u001b[1;32mNone\u001b[0m\u001b[1;33m:\u001b[0m\u001b[1;33m\u001b[0m\u001b[1;33m\u001b[0m\u001b[0m\n\u001b[1;32m--> 296\u001b[1;33m                 \u001b[0mwaiter\u001b[0m\u001b[1;33m.\u001b[0m\u001b[0macquire\u001b[0m\u001b[1;33m(\u001b[0m\u001b[1;33m)\u001b[0m\u001b[1;33m\u001b[0m\u001b[1;33m\u001b[0m\u001b[0m\n\u001b[0m\u001b[0;32m    297\u001b[0m                 \u001b[0mgotit\u001b[0m \u001b[1;33m=\u001b[0m \u001b[1;32mTrue\u001b[0m\u001b[1;33m\u001b[0m\u001b[1;33m\u001b[0m\u001b[0m\n\u001b[0;32m    298\u001b[0m             \u001b[1;32melse\u001b[0m\u001b[1;33m:\u001b[0m\u001b[1;33m\u001b[0m\u001b[1;33m\u001b[0m\u001b[0m\n",
      "\u001b[1;31mKeyboardInterrupt\u001b[0m: "
     ]
    }
   ],
   "source": [
    "k_fold_range = range(0,int(500000*frac),int(50000*frac))\n",
    "\n",
    "estimator_range = range(100, 500, 100)\n",
    "MSE_scores = []\n",
    "\n",
    "for i in k_fold_range:\n",
    "  data_test = data_sample.iloc[i:i+int(50000*frac)]\n",
    "  data_train = data_sample[~data_sample.index.isin(data_test.index)]\n",
    "\n",
    "  print(data_test.head())\n",
    "  print(data_test.tail())\n",
    "\n",
    "  X_train = data_train.drop(\"Price\",axis = 1)\n",
    "  Y_train = data_train[\"Price\"]\n",
    "\n",
    "  X_test = data_test.drop(\"Price\",axis = 1)\n",
    "  Y_test = data_test[\"Price\"]\n",
    "\n",
    "  for estimator in estimator_range:\n",
    "        clf = RandomForestRegressor(n_estimators=estimator, random_state=1, n_jobs=-1)\n",
    "        clf.fit(X_train,Y_train)\n",
    "        y_pred = clf.predict(X_test)\n",
    "        error = mean_squared_error(Y_test,y_pred)\n",
    "        print(error)\n",
    "        MSE_scores.append(error)"
   ]
  },
  {
   "cell_type": "code",
   "execution_count": null,
   "metadata": {
    "colab": {
     "base_uri": "https://localhost:8080/",
     "height": 105
    },
    "colab_type": "code",
    "executionInfo": {
     "elapsed": 613,
     "status": "ok",
     "timestamp": 1593411359963,
     "user": {
      "displayName": "Julian Velasquez",
      "photoUrl": "",
      "userId": "11029812688284237125"
     },
     "user_tz": 300
    },
    "id": "nN5gmKxrpWoc",
    "outputId": "9c291f9e-a6f1-4998-dc8f-5c14d20b7a44"
   },
   "outputs": [],
   "source": [
    "Modelo_1 = (MSE_scores[0]+MSE_scores[4]+MSE_scores[8]+MSE_scores[12]+MSE_scores[16]+MSE_scores[20]+MSE_scores[24]+MSE_scores[28]+MSE_scores[32]+MSE_scores[36])/10\n",
    "Modelo_2 = (MSE_scores[1]+MSE_scores[5]+MSE_scores[9]+MSE_scores[13]+MSE_scores[17]+MSE_scores[21]+MSE_scores[25]+MSE_scores[29]+MSE_scores[33]+MSE_scores[37])/10\n",
    "Modelo_3 = (MSE_scores[2]+MSE_scores[6]+MSE_scores[10]+MSE_scores[14]+MSE_scores[18]+MSE_scores[22]+MSE_scores[26]+MSE_scores[30]+MSE_scores[34]+MSE_scores[38])/10\n",
    "Modelo_4 = (MSE_scores[3]+MSE_scores[7]+MSE_scores[11]+MSE_scores[15]+MSE_scores[19]+MSE_scores[23]+MSE_scores[27]+MSE_scores[31]+MSE_scores[35]+MSE_scores[39])/10\n",
    "print(\"Estimators(100): \" + str(Modelo_1))\n",
    "print(\"Estimators(200): \" + str(Modelo_2))\n",
    "print(\"Estimators(300): \" + str(Modelo_3))\n",
    "print(\"Estimators(400): \" + str(Modelo_4))\n",
    "\n",
    "MSE_Finales = []\n",
    "\n",
    "MSE_Finales.append(Modelo_1)\n",
    "MSE_Finales.append(Modelo_2)\n",
    "MSE_Finales.append(Modelo_3)\n",
    "MSE_Finales.append(Modelo_4)"
   ]
  },
  {
   "cell_type": "code",
   "execution_count": null,
   "metadata": {
    "colab": {
     "base_uri": "https://localhost:8080/",
     "height": 308
    },
    "colab_type": "code",
    "executionInfo": {
     "elapsed": 610,
     "status": "ok",
     "timestamp": 1593411386369,
     "user": {
      "displayName": "Julian Velasquez",
      "photoUrl": "",
      "userId": "11029812688284237125"
     },
     "user_tz": 300
    },
    "id": "VQGjXOaj95in",
    "outputId": "7e75fc51-e004-417e-ae60-b5cfedb77018"
   },
   "outputs": [],
   "source": [
    "plt.plot(estimator_range, MSE_Finales)\n",
    "plt.xlabel('n_estimators')\n",
    "plt.ylabel('MSE')"
   ]
  },
  {
   "cell_type": "markdown",
   "metadata": {
    "colab_type": "text",
    "id": "NrF21zJnuQEv"
   },
   "source": [
    "Seleccionaremos el modelo con n_estimators = 300 ya que al revisar el MSE tiene un valor muy similar a n_estimators = 400 pero implica menores tiempos de ejecución."
   ]
  },
  {
   "cell_type": "code",
   "execution_count": null,
   "metadata": {
    "colab": {
     "base_uri": "https://localhost:8080/",
     "height": 905
    },
    "colab_type": "code",
    "executionInfo": {
     "elapsed": 1153841,
     "status": "ok",
     "timestamp": 1593412830979,
     "user": {
      "displayName": "Julian Velasquez",
      "photoUrl": "",
      "userId": "11029812688284237125"
     },
     "user_tz": 300
    },
    "id": "UgoJYPWmuIwL",
    "outputId": "97403da7-9aaa-41ff-e413-a2d858ab4423"
   },
   "outputs": [],
   "source": [
    "k_fold_range = range(0,int(500000*frac),int(50000*frac))\n",
    "\n",
    "features_range = range(1, 6, 1)\n",
    "MSE_scores = []\n",
    "\n",
    "for i in k_fold_range:\n",
    "  data_test = data_sample.iloc[i:i+int(50000*frac)]\n",
    "  data_train = data_sample[~data_sample.index.isin(data_test.index)]\n",
    "\n",
    "  X_train = data_train.drop(\"Price\",axis = 1)\n",
    "  Y_train = data_train[\"Price\"]\n",
    "\n",
    "  X_test = data_test.drop(\"Price\",axis = 1)\n",
    "  Y_test = data_test[\"Price\"]\n",
    "\n",
    "  for feature in features_range:\n",
    "        clf = RandomForestRegressor(n_estimators=300,max_features=feature, random_state=1, n_jobs=-1)\n",
    "        clf.fit(X_train,Y_train)\n",
    "        y_pred = clf.predict(X_test)\n",
    "        error = mean_squared_error(Y_test,y_pred)\n",
    "        print(error)\n",
    "        MSE_scores.append(error)"
   ]
  },
  {
   "cell_type": "code",
   "execution_count": null,
   "metadata": {
    "colab": {
     "base_uri": "https://localhost:8080/",
     "height": 105
    },
    "colab_type": "code",
    "executionInfo": {
     "elapsed": 633,
     "status": "ok",
     "timestamp": 1593413107872,
     "user": {
      "displayName": "Julian Velasquez",
      "photoUrl": "",
      "userId": "11029812688284237125"
     },
     "user_tz": 300
    },
    "id": "z8cDFkrUvNPT",
    "outputId": "0881c9b1-1973-4388-9658-43ece460c4d4"
   },
   "outputs": [],
   "source": [
    "Modelo_1 = (MSE_scores[0]+MSE_scores[5]+MSE_scores[10]+MSE_scores[15]+MSE_scores[20]+MSE_scores[25]+MSE_scores[30]+MSE_scores[35]+MSE_scores[40]+MSE_scores[45])/10\n",
    "Modelo_2 = (MSE_scores[1]+MSE_scores[6]+MSE_scores[11]+MSE_scores[16]+MSE_scores[21]+MSE_scores[26]+MSE_scores[31]+MSE_scores[36]+MSE_scores[41]+MSE_scores[46])/10\n",
    "Modelo_3 = (MSE_scores[2]+MSE_scores[7]+MSE_scores[12]+MSE_scores[17]+MSE_scores[22]+MSE_scores[27]+MSE_scores[32]+MSE_scores[37]+MSE_scores[42]+MSE_scores[47])/10\n",
    "Modelo_4 = (MSE_scores[3]+MSE_scores[8]+MSE_scores[13]+MSE_scores[18]+MSE_scores[23]+MSE_scores[28]+MSE_scores[33]+MSE_scores[38]+MSE_scores[43]+MSE_scores[48])/10\n",
    "Modelo_5 = (MSE_scores[4]+MSE_scores[9]+MSE_scores[14]+MSE_scores[19]+MSE_scores[24]+MSE_scores[29]+MSE_scores[34]+MSE_scores[39]+MSE_scores[44]+MSE_scores[49])/10\n",
    "print(\"Features(1): \" + str(Modelo_1))\n",
    "print(\"Features(2): \" + str(Modelo_2))\n",
    "print(\"Features(3): \" + str(Modelo_3))\n",
    "print(\"Features(4): \" + str(Modelo_4))\n",
    "print(\"Features(5): \" + str(Modelo_5))\n",
    "\n",
    "MSE_Finales = []\n",
    "\n",
    "MSE_Finales.append(Modelo_1)\n",
    "MSE_Finales.append(Modelo_2)\n",
    "MSE_Finales.append(Modelo_3)\n",
    "MSE_Finales.append(Modelo_4)\n",
    "MSE_Finales.append(Modelo_5)"
   ]
  },
  {
   "cell_type": "code",
   "execution_count": null,
   "metadata": {
    "colab": {
     "base_uri": "https://localhost:8080/",
     "height": 308
    },
    "colab_type": "code",
    "executionInfo": {
     "elapsed": 637,
     "status": "ok",
     "timestamp": 1593413109740,
     "user": {
      "displayName": "Julian Velasquez",
      "photoUrl": "",
      "userId": "11029812688284237125"
     },
     "user_tz": 300
    },
    "id": "ohZtomz0pOR1",
    "outputId": "7331c091-d80e-4f74-83f1-ab33dc91c7fa"
   },
   "outputs": [],
   "source": [
    "plt.plot(features_range, MSE_Finales)\n",
    "plt.xlabel('max_features')\n",
    "plt.ylabel('MSE')"
   ]
  },
  {
   "cell_type": "markdown",
   "metadata": {
    "colab_type": "text",
    "id": "_b7rtYvK1dbI"
   },
   "source": []
  },
  {
   "cell_type": "code",
   "execution_count": null,
   "metadata": {
    "colab": {
     "base_uri": "https://localhost:8080/",
     "height": 207
    },
    "colab_type": "code",
    "executionInfo": {
     "elapsed": 2836147,
     "status": "ok",
     "timestamp": 1593447118729,
     "user": {
      "displayName": "Julian Velasquez",
      "photoUrl": "",
      "userId": "11029812688284237125"
     },
     "user_tz": 300
    },
    "id": "d004TGOA3gMF",
    "outputId": "2e4007e1-5fe9-4d26-f055-dbc823d1773e"
   },
   "outputs": [],
   "source": [
    "k_fold_range = range(0,int(500000*frac),int(50000*frac))\n",
    "\n",
    "depth_range = range(1, 21, 1)\n",
    "MSE_scores = []\n",
    "\n",
    "for i in k_fold_range:\n",
    "  data_test = data_sample.iloc[i:i+int(50000*frac)]\n",
    "  data_train = data_sample[~data_sample.index.isin(data_test.index)]\n",
    "\n",
    "  X_train = data_train.drop(\"Price\",axis = 1)\n",
    "  Y_train = data_train[\"Price\"]\n",
    "\n",
    "  X_test = data_test.drop(\"Price\",axis = 1)\n",
    "  Y_test = data_test[\"Price\"]\n",
    "  row = []\n",
    "  for depth in depth_range:\n",
    "        clf = RandomForestRegressor(n_estimators=300,max_features=4,max_depth=depth, random_state=1, n_jobs=-1)\n",
    "        clf.fit(X_train,Y_train)\n",
    "        y_pred = clf.predict(X_test)\n",
    "        error = mean_squared_error(Y_test,y_pred)\n",
    "        #print(error)\n",
    "        row.append(error)\n",
    "        #print(row)\n",
    "  MSE_scores.append(row)\n",
    "  print(MSE_scores)"
   ]
  },
  {
   "cell_type": "code",
   "execution_count": null,
   "metadata": {
    "colab": {
     "base_uri": "https://localhost:8080/",
     "height": 374
    },
    "colab_type": "code",
    "executionInfo": {
     "elapsed": 1172,
     "status": "ok",
     "timestamp": 1593447407465,
     "user": {
      "displayName": "Julian Velasquez",
      "photoUrl": "",
      "userId": "11029812688284237125"
     },
     "user_tz": 300
    },
    "id": "aRCj-2XBztlL",
    "outputId": "19391541-1d38-4b14-ac3c-2142cb58fb28"
   },
   "outputs": [],
   "source": [
    "df_MSE = pd.DataFrame(MSE_scores, columns=['Modelo_1', 'Modelo_2','Modelo_3','Modelo_4','Modelo_5','Modelo_6','Modelo_7','Modelo_8','Modelo_9','Modelo_10',\n",
    "                                           'Modelo_11','Modelo_12','Modelo_13','Modelo_14','Modelo_15','Modelo_16','Modelo_17','Modelo_18','Modelo_19','Modelo_20'])\n",
    "\n",
    "df_MSE.mean(axis=0)"
   ]
  },
  {
   "cell_type": "code",
   "execution_count": null,
   "metadata": {
    "colab": {
     "base_uri": "https://localhost:8080/",
     "height": 308
    },
    "colab_type": "code",
    "executionInfo": {
     "elapsed": 1200,
     "status": "ok",
     "timestamp": 1593447523619,
     "user": {
      "displayName": "Julian Velasquez",
      "photoUrl": "",
      "userId": "11029812688284237125"
     },
     "user_tz": 300
    },
    "id": "kqmzPdms52Xu",
    "outputId": "6da06fa5-e1e4-4982-ec3d-cdecb0cad0ca"
   },
   "outputs": [],
   "source": [
    "plt.plot(depth_range, df_MSE.mean(axis=0))\n",
    "plt.xlabel('max_depth')\n",
    "plt.ylabel('MSE')"
   ]
  },
  {
   "cell_type": "code",
   "execution_count": 26,
   "metadata": {
    "colab": {},
    "colab_type": "code",
    "executionInfo": {
     "elapsed": 87246,
     "status": "ok",
     "timestamp": 1593447634995,
     "user": {
      "displayName": "Julian Velasquez",
      "photoUrl": "",
      "userId": "11029812688284237125"
     },
     "user_tz": 300
    },
    "id": "vuc4CI2tpOSX"
   },
   "outputs": [],
   "source": [
    "from sklearn.model_selection import train_test_split\n",
    "\n",
    "X_train, X_test, y_train, y_test = train_test_split(X_Total, Y_Total, test_size=0.70, random_state=1)\n",
    "\n",
    "clf_VF = RandomForestRegressor(n_estimators=200, max_features=4, max_depth = 15, random_state=1, n_jobs=-1)\n",
    "clf_VF.fit(X_train,y_train)\n",
    "Y_Pred = clf_VF.predict(X_test) "
   ]
  },
  {
   "cell_type": "code",
   "execution_count": 27,
   "metadata": {
    "colab": {
     "base_uri": "https://localhost:8080/",
     "height": 51
    },
    "colab_type": "code",
    "executionInfo": {
     "elapsed": 861,
     "status": "ok",
     "timestamp": 1593447679705,
     "user": {
      "displayName": "Julian Velasquez",
      "photoUrl": "",
      "userId": "11029812688284237125"
     },
     "user_tz": 300
    },
    "id": "C_zGyGgT9Nh7",
    "outputId": "6457617d-cf0d-4141-845c-5edfc23b0e42"
   },
   "outputs": [
    {
     "name": "stdout",
     "output_type": "stream",
     "text": [
      "MSE :17206022.14977094\n",
      "RMSE :4148.014241751219\n"
     ]
    }
   ],
   "source": [
    "error = mean_squared_error(Y_Pred,y_test)\n",
    "print(\"MSE :\" + str(error))\n",
    "print(\"RMSE :\" + str(np.sqrt(error)))"
   ]
  },
  {
   "cell_type": "code",
   "execution_count": 28,
   "metadata": {
    "colab": {
     "base_uri": "https://localhost:8080/",
     "height": 204
    },
    "colab_type": "code",
    "executionInfo": {
     "elapsed": 2005,
     "status": "ok",
     "timestamp": 1593447737789,
     "user": {
      "displayName": "Julian Velasquez",
      "photoUrl": "",
      "userId": "11029812688284237125"
     },
     "user_tz": 300
    },
    "id": "HHX6u7vVpOSb",
    "outputId": "9e4997b7-b700-45e8-a4b2-30f4488aabd5"
   },
   "outputs": [
    {
     "data": {
      "text/html": [
       "<div>\n",
       "<style scoped>\n",
       "    .dataframe tbody tr th:only-of-type {\n",
       "        vertical-align: middle;\n",
       "    }\n",
       "\n",
       "    .dataframe tbody tr th {\n",
       "        vertical-align: top;\n",
       "    }\n",
       "\n",
       "    .dataframe thead th {\n",
       "        text-align: right;\n",
       "    }\n",
       "</style>\n",
       "<table border=\"1\" class=\"dataframe\">\n",
       "  <thead>\n",
       "    <tr style=\"text-align: right;\">\n",
       "      <th></th>\n",
       "      <th>feature</th>\n",
       "      <th>importance</th>\n",
       "    </tr>\n",
       "  </thead>\n",
       "  <tbody>\n",
       "    <tr>\n",
       "      <td>0</td>\n",
       "      <td>Year</td>\n",
       "      <td>0.0</td>\n",
       "    </tr>\n",
       "    <tr>\n",
       "      <td>1</td>\n",
       "      <td>Mileage</td>\n",
       "      <td>0.0</td>\n",
       "    </tr>\n",
       "    <tr>\n",
       "      <td>2</td>\n",
       "      <td>State</td>\n",
       "      <td>0.0</td>\n",
       "    </tr>\n",
       "    <tr>\n",
       "      <td>3</td>\n",
       "      <td>Make</td>\n",
       "      <td>0.0</td>\n",
       "    </tr>\n",
       "    <tr>\n",
       "      <td>4</td>\n",
       "      <td>Model</td>\n",
       "      <td>0.0</td>\n",
       "    </tr>\n",
       "  </tbody>\n",
       "</table>\n",
       "</div>"
      ],
      "text/plain": [
       "   feature  importance\n",
       "0     Year         0.0\n",
       "1  Mileage         0.0\n",
       "2    State         0.0\n",
       "3     Make         0.0\n",
       "4    Model         0.0"
      ]
     },
     "execution_count": 28,
     "metadata": {},
     "output_type": "execute_result"
    }
   ],
   "source": [
    "# compute feature importances\n",
    "feature_cols = data.drop(\"Price\",axis = 1).columns\n",
    "pd.DataFrame({'feature':feature_cols, 'importance':clf.feature_importances_}).sort_values('importance')"
   ]
  },
  {
   "cell_type": "code",
   "execution_count": null,
   "metadata": {
    "colab": {},
    "colab_type": "code",
    "id": "Ibt0R5PzpOSk"
   },
   "outputs": [],
   "source": []
  },
  {
   "cell_type": "code",
   "execution_count": null,
   "metadata": {
    "colab": {},
    "colab_type": "code",
    "id": "cgQqWTfHpOSn"
   },
   "outputs": [],
   "source": []
  },
  {
   "cell_type": "markdown",
   "metadata": {
    "colab_type": "text",
    "id": "1qfRzhrhpOSs"
   },
   "source": [
    "# Exercise P2.2 (50%)\n",
    "\n",
    "Create an API of the model.\n",
    "\n",
    "Example:\n",
    "![](https://raw.githubusercontent.com/albahnsen/PracticalMachineLearningClass/master/notebooks/images/img015.PNG)\n",
    "\n",
    "#### Evaluation:\n",
    "- 40% - API hosted on a cloud service\n",
    "- 10% - Show screenshots of the model doing the predictions on the local machine\n"
   ]
  },
  {
   "cell_type": "markdown",
   "metadata": {},
   "source": [
    "## Save the Model"
   ]
  },
  {
   "cell_type": "code",
   "execution_count": 31,
   "metadata": {},
   "outputs": [],
   "source": [
    "from sklearn.externals import joblib"
   ]
  },
  {
   "cell_type": "code",
   "execution_count": null,
   "metadata": {
    "scrolled": true
   },
   "outputs": [],
   "source": [
    "joblib.dump(clf_VF, 'price_forecast.aaaa', compress=9)"
   ]
  },
  {
   "cell_type": "markdown",
   "metadata": {},
   "source": [
    "## Create the Model"
   ]
  },
  {
   "cell_type": "code",
   "execution_count": 158,
   "metadata": {},
   "outputs": [],
   "source": [
    "import pandas as pd\n",
    "from sklearn.externals import joblib\n",
    "import sys\n",
    "import os"
   ]
  },
  {
   "cell_type": "code",
   "execution_count": 159,
   "metadata": {},
   "outputs": [],
   "source": [
    "Model=\"Mazda34dr\"\n",
    "Make=\"Mazda\"\n",
    "Mileage=15000\n",
    "Year=2014\n",
    "State=\"MD\""
   ]
  },
  {
   "cell_type": "code",
   "execution_count": 160,
   "metadata": {},
   "outputs": [
    {
     "data": {
      "text/html": [
       "<div>\n",
       "<style scoped>\n",
       "    .dataframe tbody tr th:only-of-type {\n",
       "        vertical-align: middle;\n",
       "    }\n",
       "\n",
       "    .dataframe tbody tr th {\n",
       "        vertical-align: top;\n",
       "    }\n",
       "\n",
       "    .dataframe thead th {\n",
       "        text-align: right;\n",
       "    }\n",
       "</style>\n",
       "<table border=\"1\" class=\"dataframe\">\n",
       "  <thead>\n",
       "    <tr style=\"text-align: right;\">\n",
       "      <th></th>\n",
       "      <th>Model</th>\n",
       "      <th>Make</th>\n",
       "      <th>Mileage</th>\n",
       "      <th>Year</th>\n",
       "      <th>State</th>\n",
       "    </tr>\n",
       "  </thead>\n",
       "  <tbody>\n",
       "    <tr>\n",
       "      <td>0</td>\n",
       "      <td>Mazda34dr</td>\n",
       "      <td>Mazda</td>\n",
       "      <td>15000</td>\n",
       "      <td>2014</td>\n",
       "      <td>MD</td>\n",
       "    </tr>\n",
       "  </tbody>\n",
       "</table>\n",
       "</div>"
      ],
      "text/plain": [
       "       Model   Make  Mileage  Year State\n",
       "0  Mazda34dr  Mazda    15000  2014    MD"
      ]
     },
     "execution_count": 160,
     "metadata": {},
     "output_type": "execute_result"
    }
   ],
   "source": [
    "d = {'Model':[Model], 'Make': [Make], 'Mileage': [Mileage], 'Year': [Year], 'State': [State]}\n",
    "DF = pd.DataFrame(data=d)\n",
    "DF"
   ]
  },
  {
   "cell_type": "code",
   "execution_count": 161,
   "metadata": {},
   "outputs": [
    {
     "name": "stdout",
     "output_type": "stream",
     "text": [
      "       Model   Make  Mileage  Year State\n",
      "0  Mazda34dr  Mazda    15000  2014    MD\n",
      "forecast of price:  [30952.53446927]\n"
     ]
    }
   ],
   "source": [
    "import pandas as pd\n",
    "from sklearn.externals import joblib\n",
    "import sys\n",
    "import os\n",
    "\n",
    "\n",
    "def PredictPrice(Model, Make, Mileage, Year, State):\n",
    "\n",
    "    #clf_VF = joblib.load(os.path.dirname(__file__) + '/price_forecast.pkl') \n",
    "    \n",
    "   \n",
    "    d = {'Model':[Model], 'Make': [Make], 'Mileage': [Mileage], 'Year': [Year], 'State': [State]}\n",
    "    DF = pd.DataFrame(data=d)\n",
    "    \n",
    "    # Transformado\n",
    "    estados = [[\"MD\",0],[\"KY\",1],[\"SC\",2],[\"OK\",3],[\"TN\",4],[\"FL\",5],[\"NH\",6],[\"WI\",7],[\"NY\",8],[\"TX\",9],[\"NJ\",10],[\"MI\",11],\n",
    "           [\"AL\",12],[\"CA\",13],[\"NC\",14],[\"GA\",15],[\"OR\",16],[\"OH\",17],[\"AR\",18],[\"VA\",19],[\"WA\",20],[\"IL\",21],[\"AZ\",22],[\"MA\",23],\n",
    "           [\"CO\",24],[\"MN\",25],[\"KS\",26],[\"PA\",27],[\"MO\",28],[\"SD\",29],[\"IN\",30],[\"NE\",31],[\"UT\",32],[\"NM\",33],[\"HI\",34],[\"NV\",35],\n",
    "           [\"DE\",36],[\"MS\",37],[\"ID\",38],[\"IA\",39],[\"ME\",40],[\"CT\",41],[\"MT\",42],[\"VT\",43],[\"WV\",44],[\"LA\",45],[\"ND\",46],[\"AK\",47],\n",
    "           [\"RI\",48],[\"WY\",49],[\"DC\",50]]\n",
    "\n",
    " \n",
    "\n",
    "    marca = [[\"Nissan\",0],[\"Chevrolet\",1],[\"Hyundai\",2],[\"Jeep\",3],[\"Ford\",4],[\"Kia\",5],[\"Mercedes-Benz\",6],[\"Dodge\",7],\n",
    "         [\"GMC\",8],[\"Toyota\",9],[\"Honda\",10],[\"Volkswagen\",11],[\"Cadillac\",12],[\"Volvo\",13],[\"BMW\",14],[\"Subaru\",15],\n",
    "         [\"Chrysler\",16],[\"Buick\",17],[\"Ram\",18],[\"Lexus\",19],[\"Porsche\",20],[\"Audi\",21],[\"Lincoln\",22],[\"MINI\",23],\n",
    "         [\"INFINITI\",24],[\"Scion\",25],[\"Land\",26],[\"Acura\",27],[\"Mazda\",28],[\"Mercury\",29],[\"Mitsubishi\",30],\n",
    "         [\"Pontiac\",31],[\"Jaguar\",32],[\"Bentley\",33],[\"Suzuki\",34],[\"FIAT\",35],[\"Tesla\",36],[\"Freightliner\",37]]\n",
    "\n",
    " \n",
    "\n",
    "    df_estados = pd.DataFrame(estados, columns = [\"State\",\"State_2\"])\n",
    "    df_marca = pd.DataFrame(marca, columns = [\"Make\",\"Make_2\"])\n",
    "    df_modelos = pd.read_csv(r'../ModeloAvanzadosDecisionTrees/Modelos.csv')\n",
    "\n",
    " \n",
    "\n",
    "    DF['State'] = DF['State'].str.strip()\n",
    "\n",
    " \n",
    "\n",
    "    DF = pd.merge(DF,df_marca, how = \"left\", left_on = \"Make\",right_on = \"Make\")\n",
    "    DF = pd.merge(DF,df_estados, how = \"left\", left_on = \"State\",right_on = \"State\")\n",
    "    DF = pd.merge(DF,df_modelos, how = \"left\", left_on = \"Model\",right_on = \"Model\")\n",
    "    DF = DF.drop([\"Make\",\"State\", \"Model\"],axis=1)\n",
    "    DF = DF.rename(columns = {\"Make_2\": \"Make\",\n",
    "                                     \"State_2\": \"State\",\"Model_2\": \"Model\" \n",
    "                                     })\n",
    "  \n",
    "    # Create features\n",
    "    #DF['State'] = pd.factorize(DF.State)[0]\n",
    "    #DF['Make'] = pd.factorize(DF.Make)[0]\n",
    "    #DF['Model'] = pd.factorize(DF.Model)[0]\n",
    "  \n",
    "    \n",
    "\n",
    "    # Make prediction\n",
    "    p1 = clf_VF.predict(DF)\n",
    "\n",
    "    return p1\n",
    "\n",
    "\n",
    "#if __name__ == \"__main__\":\n",
    "    \n",
    "    #if len(sys.argv) == 1:\n",
    "        #print('Please add an URL')\n",
    "        \n",
    "    #else:\n",
    "\n",
    "        #DF = sys.argv[1]\n",
    "        \n",
    "\n",
    "print(DF)\n",
    "print('forecast of price: ', p1)\n",
    " "
   ]
  },
  {
   "cell_type": "code",
   "execution_count": 148,
   "metadata": {},
   "outputs": [
    {
     "name": "stdout",
     "output_type": "stream",
     "text": [
      "       Model   Make  Mileage  Year State\n",
      "0  Mazda34dr  Mazda    15000  2014    MD\n",
      "forecast of price:  [30952.53446927]\n"
     ]
    }
   ],
   "source": [
    "#p1 = PredictPrice(Model, Make, Mileage, Year, State)"
   ]
  },
  {
   "cell_type": "markdown",
   "metadata": {},
   "source": [
    "## Part 2: Model in batch"
   ]
  },
  {
   "cell_type": "code",
   "execution_count": 167,
   "metadata": {},
   "outputs": [],
   "source": [
    "# Aqui no es necesario porque la función PredictPrice está en este mismo notebook.Para correr de AWS si se debe redefinir\n",
    "from ModelDeployment1 import PredictPrice"
   ]
  },
  {
   "cell_type": "markdown",
   "metadata": {},
   "source": [
    "### Part 3: Create the API"
   ]
  },
  {
   "cell_type": "code",
   "execution_count": 162,
   "metadata": {},
   "outputs": [],
   "source": [
    "from flask import Flask\n",
    "from flask_restx import Api, Resource, fields\n",
    "from sklearn.externals import joblib"
   ]
  },
  {
   "cell_type": "code",
   "execution_count": 129,
   "metadata": {},
   "outputs": [
    {
     "data": {
      "text/html": [
       "<div>\n",
       "<style scoped>\n",
       "    .dataframe tbody tr th:only-of-type {\n",
       "        vertical-align: middle;\n",
       "    }\n",
       "\n",
       "    .dataframe tbody tr th {\n",
       "        vertical-align: top;\n",
       "    }\n",
       "\n",
       "    .dataframe thead th {\n",
       "        text-align: right;\n",
       "    }\n",
       "</style>\n",
       "<table border=\"1\" class=\"dataframe\">\n",
       "  <thead>\n",
       "    <tr style=\"text-align: right;\">\n",
       "      <th></th>\n",
       "      <th>Model</th>\n",
       "      <th>Make</th>\n",
       "      <th>Mileage</th>\n",
       "      <th>Year</th>\n",
       "      <th>State</th>\n",
       "    </tr>\n",
       "  </thead>\n",
       "  <tbody>\n",
       "    <tr>\n",
       "      <td>0</td>\n",
       "      <td>Mazda6</td>\n",
       "      <td>Mazda</td>\n",
       "      <td>15000</td>\n",
       "      <td>2014</td>\n",
       "      <td>MD</td>\n",
       "    </tr>\n",
       "  </tbody>\n",
       "</table>\n",
       "</div>"
      ],
      "text/plain": [
       "    Model   Make  Mileage  Year State\n",
       "0  Mazda6  Mazda    15000  2014    MD"
      ]
     },
     "execution_count": 129,
     "metadata": {},
     "output_type": "execute_result"
    }
   ],
   "source": [
    "DF"
   ]
  },
  {
   "cell_type": "markdown",
   "metadata": {},
   "source": [
    "Create api"
   ]
  },
  {
   "cell_type": "code",
   "execution_count": 163,
   "metadata": {},
   "outputs": [],
   "source": [
    "from flask import Flask\n",
    "from flask_restx import Api, Resource, fields\n",
    "from sklearn.externals import joblib\n",
    "\n",
    "app = Flask(__name__)\n",
    "\n",
    "api = Api(\n",
    "    app, \n",
    "    version='1.0', \n",
    "    title='Predicting Price',\n",
    "    description='Predicting Price')\n",
    "\n",
    "ns = api.namespace('predict', \n",
    "     description='Predicting Price')\n",
    "   \n",
    "parser = api.parser()\n",
    "\n",
    "parser.add_argument(\n",
    "    'Model', \n",
    "    type=str, \n",
    "    required=True, \n",
    "    help='type Model', \n",
    "    location='args')\n",
    "\n",
    "parser.add_argument(\n",
    "    'Make', \n",
    "    type=str, \n",
    "    required=True, \n",
    "    help='Type make', \n",
    "    location='args')\n",
    "\n",
    "parser.add_argument(\n",
    "    'Mileage', \n",
    "    type=int, \n",
    "    required=True, \n",
    "    help='Type mileage', \n",
    "    location='args')\n",
    "\n",
    "parser.add_argument(\n",
    "    'Year', \n",
    "    type=int, \n",
    "    required=True, \n",
    "    help='Type year', \n",
    "    location='args')\n",
    "\n",
    "\n",
    "parser.add_argument(\n",
    "    'State', \n",
    "    type=str, \n",
    "    required=True, \n",
    "    help='type State', \n",
    "    location='args')\n",
    "\n",
    "resource_fields = api.model('Resource', {\n",
    "    'result': fields.String,\n",
    "})"
   ]
  },
  {
   "cell_type": "code",
   "execution_count": 150,
   "metadata": {},
   "outputs": [],
   "source": []
  },
  {
   "cell_type": "markdown",
   "metadata": {},
   "source": [
    "Load model and create function that predicts an URL"
   ]
  },
  {
   "cell_type": "code",
   "execution_count": null,
   "metadata": {},
   "outputs": [],
   "source": [
    "#from model_deployment.m09_model_deployment import PredictPrice"
   ]
  },
  {
   "cell_type": "code",
   "execution_count": 164,
   "metadata": {},
   "outputs": [],
   "source": [
    "@ns.route('/')\n",
    "class PredictingPrice(Resource):\n",
    "\n",
    "    @api.doc(parser=parser)\n",
    "    @api.marshal_with(resource_fields)\n",
    "    def get(self):\n",
    "        args = parser.parse_args()\n",
    "        \n",
    "        Model = args['Model']\n",
    "        Make = args['Make']\n",
    "        Mileage = args['Mileage']\n",
    "        Year = args['Year']\n",
    "        State = args['State']\n",
    "        \n",
    "        #DF = DF.split('%3B')\n",
    "        print(DF)\n",
    "        \n",
    "        return {\n",
    "         \"result\": PredictPrice(Model, Make, Mileage, Year, State)\n",
    "        }, 200"
   ]
  },
  {
   "cell_type": "code",
   "execution_count": 152,
   "metadata": {},
   "outputs": [
    {
     "data": {
      "text/plain": [
       "0    Mazda34dr\n",
       "Name: Model, dtype: object"
      ]
     },
     "execution_count": 152,
     "metadata": {},
     "output_type": "execute_result"
    }
   ],
   "source": [
    "DF.Model"
   ]
  },
  {
   "cell_type": "code",
   "execution_count": 165,
   "metadata": {},
   "outputs": [
    {
     "name": "stdout",
     "output_type": "stream",
     "text": [
      " * Serving Flask app \"__main__\" (lazy loading)\n",
      " * Environment: production\n",
      "   WARNING: This is a development server. Do not use it in a production deployment.\n",
      "   Use a production WSGI server instead.\n",
      " * Debug mode: on\n"
     ]
    },
    {
     "name": "stderr",
     "output_type": "stream",
     "text": [
      " * Running on http://0.0.0.0:5000/ (Press CTRL+C to quit)\n",
      "127.0.0.1 - - [29/Jun/2020 18:48:36] \"GET / HTTP/1.1\" 200 -\n",
      "127.0.0.1 - - [29/Jun/2020 18:48:37] \"GET /swagger.json HTTP/1.1\" 200 -\n",
      "127.0.0.1 - - [29/Jun/2020 18:48:37] \"GET /swaggerui/favicon-32x32.png HTTP/1.1\" 200 -\n",
      "C:\\Users\\Daniel Camillo Rojas\\Anaconda3\\lib\\site-packages\\sklearn\\ensemble\\base.py:154: UserWarning: Loky-backed parallel loops cannot be nested below threads, setting n_jobs=1\n",
      "  n_jobs = min(effective_n_jobs(n_jobs), n_estimators)\n",
      "127.0.0.1 - - [29/Jun/2020 18:49:42] \"GET /predict/?Model=Mazda34dr&Make=Mazda&Mileage=16000&Year=2016&State=MD HTTP/1.1\" 200 -\n"
     ]
    },
    {
     "name": "stdout",
     "output_type": "stream",
     "text": [
      "       Model   Make  Mileage  Year State\n",
      "0  Mazda34dr  Mazda    15000  2014    MD\n"
     ]
    }
   ],
   "source": [
    "app.run(debug=True, use_reloader=False, host='0.0.0.0', port=5000)"
   ]
  }
 ],
 "metadata": {
  "colab": {
   "collapsed_sections": [],
   "name": "P2-UsedVehiclePricePrediction_v2.ipynb",
   "provenance": []
  },
  "kernelspec": {
   "display_name": "Python 3",
   "language": "python",
   "name": "python3"
  }
 },
 "nbformat": 4,
 "nbformat_minor": 1
}
