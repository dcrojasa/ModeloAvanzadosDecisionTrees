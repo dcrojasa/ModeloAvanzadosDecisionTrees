{
 "cells": [
  {
   "cell_type": "markdown",
   "metadata": {
    "colab_type": "text",
    "id": "6ARqSIC_pOQa"
   },
   "source": [
    "# Project 2\n",
    "\n",
    "# Used Vehicle Price Prediction"
   ]
  },
  {
   "cell_type": "markdown",
   "metadata": {},
   "source": [
    "### Integrantes del Grupo:\n",
    "\n",
    "* Jorge Enrique Gonzalez Garcia (201920233)\n",
    "* Daniel Camilo Rojas Arcila (201924286)\n",
    "* Julian Andrés Velasquez Osorio (201014210)\n",
    "* Fernando Pérez Moreno (200222809)"
   ]
  },
  {
   "cell_type": "markdown",
   "metadata": {
    "colab_type": "text",
    "id": "WE2PCE_mpOQd"
   },
   "source": [
    "## Introduction\n",
    "\n",
    "- 1.2 Million listings scraped from TrueCar.com - Price, Mileage, Make, Model dataset from Kaggle: [data](https://www.kaggle.com/jpayne/852k-used-car-listings)\n",
    "- Each observation represents the price of an used car"
   ]
  },
  {
   "cell_type": "code",
   "execution_count": 1,
   "metadata": {
    "colab": {},
    "colab_type": "code",
    "executionInfo": {
     "elapsed": 1348,
     "status": "ok",
     "timestamp": 1593442544028,
     "user": {
      "displayName": "Julian Velasquez",
      "photoUrl": "",
      "userId": "11029812688284237125"
     },
     "user_tz": 300
    },
    "id": "93BkAr38pOQe"
   },
   "outputs": [],
   "source": [
    "%matplotlib inline\n",
    "import pandas as pd\n",
    "from sklearn.model_selection import train_test_split"
   ]
  },
  {
   "cell_type": "code",
   "execution_count": 2,
   "metadata": {
    "colab": {
     "base_uri": "https://localhost:8080/",
     "height": 122
    },
    "colab_type": "code",
    "executionInfo": {
     "elapsed": 34825,
     "status": "ok",
     "timestamp": 1593442577547,
     "user": {
      "displayName": "Julian Velasquez",
      "photoUrl": "",
      "userId": "11029812688284237125"
     },
     "user_tz": 300
    },
    "id": "a3Pv4u2RpOQn",
    "outputId": "2adbf213-fb7b-4696-bd7f-4c2fb8a19853"
   },
   "outputs": [
    {
     "name": "stdout",
     "output_type": "stream",
     "text": [
      "Go to this URL in a browser: https://accounts.google.com/o/oauth2/auth?client_id=947318989803-6bn6qk8qdgf4n4g3pfee6491hc0brc4i.apps.googleusercontent.com&redirect_uri=urn%3aietf%3awg%3aoauth%3a2.0%3aoob&response_type=code&scope=email%20https%3a%2f%2fwww.googleapis.com%2fauth%2fdocs.test%20https%3a%2f%2fwww.googleapis.com%2fauth%2fdrive%20https%3a%2f%2fwww.googleapis.com%2fauth%2fdrive.photos.readonly%20https%3a%2f%2fwww.googleapis.com%2fauth%2fpeopleapi.readonly\n",
      "\n",
      "Enter your authorization code:\n",
      "··········\n",
      "Mounted at /content/drive\n"
     ]
    }
   ],
   "source": [
    "#data = pd.read_csv('../datasets/dataTrain_carListings.zip')\n",
    "from google.colab import drive\n",
    "drive.mount('/content/drive')\n",
    "data = pd.read_csv(\"/content/drive/My Drive/Colab Notebooks/dataTrain_carListings.csv\")\n"
   ]
  },
  {
   "cell_type": "code",
   "execution_count": 3,
   "metadata": {
    "colab": {
     "base_uri": "https://localhost:8080/",
     "height": 204
    },
    "colab_type": "code",
    "executionInfo": {
     "elapsed": 1183,
     "status": "ok",
     "timestamp": 1593442584766,
     "user": {
      "displayName": "Julian Velasquez",
      "photoUrl": "",
      "userId": "11029812688284237125"
     },
     "user_tz": 300
    },
    "id": "Lk_zw-7TpOQu",
    "outputId": "e61edf63-899f-4ada-d754-3fa07bfb1518"
   },
   "outputs": [
    {
     "data": {
      "text/html": [
       "<div>\n",
       "<style scoped>\n",
       "    .dataframe tbody tr th:only-of-type {\n",
       "        vertical-align: middle;\n",
       "    }\n",
       "\n",
       "    .dataframe tbody tr th {\n",
       "        vertical-align: top;\n",
       "    }\n",
       "\n",
       "    .dataframe thead th {\n",
       "        text-align: right;\n",
       "    }\n",
       "</style>\n",
       "<table border=\"1\" class=\"dataframe\">\n",
       "  <thead>\n",
       "    <tr style=\"text-align: right;\">\n",
       "      <th></th>\n",
       "      <th>Price</th>\n",
       "      <th>Year</th>\n",
       "      <th>Mileage</th>\n",
       "      <th>State</th>\n",
       "      <th>Make</th>\n",
       "      <th>Model</th>\n",
       "    </tr>\n",
       "  </thead>\n",
       "  <tbody>\n",
       "    <tr>\n",
       "      <th>0</th>\n",
       "      <td>21490</td>\n",
       "      <td>2014</td>\n",
       "      <td>31909</td>\n",
       "      <td>MD</td>\n",
       "      <td>Nissan</td>\n",
       "      <td>MuranoAWD</td>\n",
       "    </tr>\n",
       "    <tr>\n",
       "      <th>1</th>\n",
       "      <td>21250</td>\n",
       "      <td>2016</td>\n",
       "      <td>25741</td>\n",
       "      <td>KY</td>\n",
       "      <td>Chevrolet</td>\n",
       "      <td>CamaroCoupe</td>\n",
       "    </tr>\n",
       "    <tr>\n",
       "      <th>2</th>\n",
       "      <td>20925</td>\n",
       "      <td>2016</td>\n",
       "      <td>24633</td>\n",
       "      <td>SC</td>\n",
       "      <td>Hyundai</td>\n",
       "      <td>Santa</td>\n",
       "    </tr>\n",
       "    <tr>\n",
       "      <th>3</th>\n",
       "      <td>14500</td>\n",
       "      <td>2012</td>\n",
       "      <td>84026</td>\n",
       "      <td>OK</td>\n",
       "      <td>Jeep</td>\n",
       "      <td>Grand</td>\n",
       "    </tr>\n",
       "    <tr>\n",
       "      <th>4</th>\n",
       "      <td>32488</td>\n",
       "      <td>2013</td>\n",
       "      <td>22816</td>\n",
       "      <td>TN</td>\n",
       "      <td>Jeep</td>\n",
       "      <td>Wrangler</td>\n",
       "    </tr>\n",
       "  </tbody>\n",
       "</table>\n",
       "</div>"
      ],
      "text/plain": [
       "   Price  Year  Mileage State       Make        Model\n",
       "0  21490  2014    31909    MD     Nissan    MuranoAWD\n",
       "1  21250  2016    25741    KY  Chevrolet  CamaroCoupe\n",
       "2  20925  2016    24633    SC    Hyundai        Santa\n",
       "3  14500  2012    84026    OK       Jeep        Grand\n",
       "4  32488  2013    22816    TN       Jeep     Wrangler"
      ]
     },
     "execution_count": 3,
     "metadata": {
      "tags": []
     },
     "output_type": "execute_result"
    }
   ],
   "source": [
    "data.head()"
   ]
  },
  {
   "cell_type": "code",
   "execution_count": 4,
   "metadata": {
    "colab": {
     "base_uri": "https://localhost:8080/",
     "height": 34
    },
    "colab_type": "code",
    "executionInfo": {
     "elapsed": 4164,
     "status": "ok",
     "timestamp": 1593442590926,
     "user": {
      "displayName": "Julian Velasquez",
      "photoUrl": "",
      "userId": "11029812688284237125"
     },
     "user_tz": 300
    },
    "id": "jewNjl8bpOQ5",
    "outputId": "0b8fc04d-d47f-4c17-84fe-2c3293d32a2b"
   },
   "outputs": [
    {
     "data": {
      "text/plain": [
       "(500000, 6)"
      ]
     },
     "execution_count": 4,
     "metadata": {
      "tags": []
     },
     "output_type": "execute_result"
    }
   ],
   "source": [
    "data.shape"
   ]
  },
  {
   "cell_type": "code",
   "execution_count": 5,
   "metadata": {
    "colab": {
     "base_uri": "https://localhost:8080/",
     "height": 170
    },
    "colab_type": "code",
    "executionInfo": {
     "elapsed": 1106,
     "status": "ok",
     "timestamp": 1593442593341,
     "user": {
      "displayName": "Julian Velasquez",
      "photoUrl": "",
      "userId": "11029812688284237125"
     },
     "user_tz": 300
    },
    "id": "fzogZHaDpOQ_",
    "outputId": "3e58d677-227b-4465-f188-9ed39843c016"
   },
   "outputs": [
    {
     "data": {
      "text/plain": [
       "count    500000.000000\n",
       "mean      21144.186304\n",
       "std       10753.259704\n",
       "min        5001.000000\n",
       "25%       13499.000000\n",
       "50%       18450.000000\n",
       "75%       26998.000000\n",
       "max       79999.000000\n",
       "Name: Price, dtype: float64"
      ]
     },
     "execution_count": 5,
     "metadata": {
      "tags": []
     },
     "output_type": "execute_result"
    }
   ],
   "source": [
    "data.Price.describe()"
   ]
  },
  {
   "cell_type": "code",
   "execution_count": 6,
   "metadata": {
    "colab": {
     "base_uri": "https://localhost:8080/",
     "height": 296
    },
    "colab_type": "code",
    "executionInfo": {
     "elapsed": 2873,
     "status": "ok",
     "timestamp": 1593442597837,
     "user": {
      "displayName": "Julian Velasquez",
      "photoUrl": "",
      "userId": "11029812688284237125"
     },
     "user_tz": 300
    },
    "id": "Rv5RNl7FpORE",
    "outputId": "5d5fa5e9-e406-476f-fbc0-0be109488ef4"
   },
   "outputs": [
    {
     "data": {
      "text/plain": [
       "<matplotlib.axes._subplots.AxesSubplot at 0x7fe1a409a710>"
      ]
     },
     "execution_count": 6,
     "metadata": {
      "tags": []
     },
     "output_type": "execute_result"
    },
    {
     "data": {
      "image/png": "[encoded data removed]",
      "text/plain": [
       "<Figure size 432x288 with 1 Axes>"
      ]
     },
     "metadata": {
      "needs_background": "light",
      "tags": []
     },
     "output_type": "display_data"
    }
   ],
   "source": [
    "data.plot(kind='scatter', y='Price', x='Year')"
   ]
  },
  {
   "cell_type": "code",
   "execution_count": 7,
   "metadata": {
    "colab": {
     "base_uri": "https://localhost:8080/",
     "height": 296
    },
    "colab_type": "code",
    "executionInfo": {
     "elapsed": 2649,
     "status": "ok",
     "timestamp": 1593442601873,
     "user": {
      "displayName": "Julian Velasquez",
      "photoUrl": "",
      "userId": "11029812688284237125"
     },
     "user_tz": 300
    },
    "id": "VmL5ofeQpORI",
    "outputId": "cbffe2bd-8162-42c1-c19b-feb7c0f0e274"
   },
   "outputs": [
    {
     "data": {
      "text/plain": [
       "<matplotlib.axes._subplots.AxesSubplot at 0x7fe1a3f81ef0>"
      ]
     },
     "execution_count": 7,
     "metadata": {
      "tags": []
     },
     "output_type": "execute_result"
    },
    {
     "data": {
      "image/png": "[encoded data removed]",
      "text/plain": [
       "<Figure size 432x288 with 1 Axes>"
      ]
     },
     "metadata": {
      "needs_background": "light",
      "tags": []
     },
     "output_type": "display_data"
    }
   ],
   "source": [
    "data.plot(kind='scatter', y='Price', x='Mileage')"
   ]
  },
  {
   "cell_type": "code",
   "execution_count": 8,
   "metadata": {
    "colab": {
     "base_uri": "https://localhost:8080/",
     "height": 34
    },
    "colab_type": "code",
    "executionInfo": {
     "elapsed": 498,
     "status": "ok",
     "timestamp": 1593442603183,
     "user": {
      "displayName": "Julian Velasquez",
      "photoUrl": "",
      "userId": "11029812688284237125"
     },
     "user_tz": 300
    },
    "id": "M6U-PqJEpORQ",
    "outputId": "77d4f942-3ee9-4bea-f10f-3375cc4749e0"
   },
   "outputs": [
    {
     "data": {
      "text/plain": [
       "Index(['Price', 'Year', 'Mileage', 'State', 'Make', 'Model'], dtype='object')"
      ]
     },
     "execution_count": 8,
     "metadata": {
      "tags": []
     },
     "output_type": "execute_result"
    }
   ],
   "source": [
    "data.columns"
   ]
  },
  {
   "cell_type": "markdown",
   "metadata": {
    "colab_type": "text",
    "id": "wg6CRa_NpORV"
   },
   "source": [
    "# Exercise P2.1 (50%)\n",
    "\n",
    "Develop a machine learning model that predicts the price of the of car using as an input ['Year', 'Mileage', 'State', 'Make', 'Model']\n",
    "\n",
    "#### Evaluation:\n",
    "- 25% - Performance of the models using a manually implemented K-Fold (K=10) cross-validation\n",
    "- 25% - Notebook explaining the process for selecting the best model. You must specify how the calibration of each of the parameters is done and how these change the performance of the model. It is expected that a clear comparison will be made of all implemented models.. Present the most relevant conslusions about the whole process. \n"
   ]
  },
  {
   "cell_type": "markdown",
   "metadata": {},
   "source": [
    "## Solution"
   ]
  },
  {
   "cell_type": "markdown",
   "metadata": {},
   "source": [
    "### Transforming the Cathegorical Variables into numbers fro using later in the model"
   ]
  },
  {
   "cell_type": "code",
   "execution_count": 9,
   "metadata": {
    "colab": {},
    "colab_type": "code",
    "executionInfo": {
     "elapsed": 981,
     "status": "ok",
     "timestamp": 1593442607259,
     "user": {
      "displayName": "Julian Velasquez",
      "photoUrl": "",
      "userId": "11029812688284237125"
     },
     "user_tz": 300
    },
    "id": "phhC5OuHpORX"
   },
   "outputs": [],
   "source": [
    "data['State'] = pd.factorize(data.State)[0]\n",
    "data['Make'] = pd.factorize(data.Make)[0]\n",
    "data['Model'] = pd.factorize(data.Model)[0]"
   ]
  },
  {
   "cell_type": "code",
   "execution_count": 10,
   "metadata": {
    "colab": {
     "base_uri": "https://localhost:8080/",
     "height": 204
    },
    "colab_type": "code",
    "executionInfo": {
     "elapsed": 1102,
     "status": "ok",
     "timestamp": 1593442608912,
     "user": {
      "displayName": "Julian Velasquez",
      "photoUrl": "",
      "userId": "11029812688284237125"
     },
     "user_tz": 300
    },
    "id": "7KPsGtyopORj",
    "outputId": "359173e3-3f14-4e8d-aed0-6370b295b981"
   },
   "outputs": [
    {
     "data": {
      "text/html": [
       "<div>\n",
       "<style scoped>\n",
       "    .dataframe tbody tr th:only-of-type {\n",
       "        vertical-align: middle;\n",
       "    }\n",
       "\n",
       "    .dataframe tbody tr th {\n",
       "        vertical-align: top;\n",
       "    }\n",
       "\n",
       "    .dataframe thead th {\n",
       "        text-align: right;\n",
       "    }\n",
       "</style>\n",
       "<table border=\"1\" class=\"dataframe\">\n",
       "  <thead>\n",
       "    <tr style=\"text-align: right;\">\n",
       "      <th></th>\n",
       "      <th>Price</th>\n",
       "      <th>Year</th>\n",
       "      <th>Mileage</th>\n",
       "      <th>State</th>\n",
       "      <th>Make</th>\n",
       "      <th>Model</th>\n",
       "    </tr>\n",
       "  </thead>\n",
       "  <tbody>\n",
       "    <tr>\n",
       "      <th>0</th>\n",
       "      <td>21490</td>\n",
       "      <td>2014</td>\n",
       "      <td>31909</td>\n",
       "      <td>0</td>\n",
       "      <td>0</td>\n",
       "      <td>0</td>\n",
       "    </tr>\n",
       "    <tr>\n",
       "      <th>1</th>\n",
       "      <td>21250</td>\n",
       "      <td>2016</td>\n",
       "      <td>25741</td>\n",
       "      <td>1</td>\n",
       "      <td>1</td>\n",
       "      <td>1</td>\n",
       "    </tr>\n",
       "    <tr>\n",
       "      <th>2</th>\n",
       "      <td>20925</td>\n",
       "      <td>2016</td>\n",
       "      <td>24633</td>\n",
       "      <td>2</td>\n",
       "      <td>2</td>\n",
       "      <td>2</td>\n",
       "    </tr>\n",
       "    <tr>\n",
       "      <th>3</th>\n",
       "      <td>14500</td>\n",
       "      <td>2012</td>\n",
       "      <td>84026</td>\n",
       "      <td>3</td>\n",
       "      <td>3</td>\n",
       "      <td>3</td>\n",
       "    </tr>\n",
       "    <tr>\n",
       "      <th>4</th>\n",
       "      <td>32488</td>\n",
       "      <td>2013</td>\n",
       "      <td>22816</td>\n",
       "      <td>4</td>\n",
       "      <td>3</td>\n",
       "      <td>4</td>\n",
       "    </tr>\n",
       "  </tbody>\n",
       "</table>\n",
       "</div>"
      ],
      "text/plain": [
       "   Price  Year  Mileage  State  Make  Model\n",
       "0  21490  2014    31909      0     0      0\n",
       "1  21250  2016    25741      1     1      1\n",
       "2  20925  2016    24633      2     2      2\n",
       "3  14500  2012    84026      3     3      3\n",
       "4  32488  2013    22816      4     3      4"
      ]
     },
     "execution_count": 10,
     "metadata": {
      "tags": []
     },
     "output_type": "execute_result"
    }
   ],
   "source": [
    "data.head()"
   ]
  },
  {
   "cell_type": "code",
   "execution_count": 11,
   "metadata": {
    "colab": {},
    "colab_type": "code",
    "executionInfo": {
     "elapsed": 739,
     "status": "ok",
     "timestamp": 1593442612825,
     "user": {
      "displayName": "Julian Velasquez",
      "photoUrl": "",
      "userId": "11029812688284237125"
     },
     "user_tz": 300
    },
    "id": "gsB7d1xFwtiI"
   },
   "outputs": [],
   "source": [
    "# Convertimos el DataFrame en arreglos numpy.\n",
    "X_Total = data.drop(\"Price\",axis = 1).to_numpy()\n",
    "Y_Total = data[\"Price\"].to_numpy()"
   ]
  },
  {
   "cell_type": "code",
   "execution_count": null,
   "metadata": {
    "colab": {
     "base_uri": "https://localhost:8080/",
     "height": 406
    },
    "colab_type": "code",
    "executionInfo": {
     "elapsed": 519,
     "status": "ok",
     "timestamp": 1593404772961,
     "user": {
      "displayName": "Julian Velasquez",
      "photoUrl": "",
      "userId": "11029812688284237125"
     },
     "user_tz": 300
    },
    "id": "H1fmJd4IUqHa",
    "outputId": "a3ba81a6-d6c1-40a8-99b8-3cb5bfaf2287"
   },
   "outputs": [
    {
     "data": {
      "text/html": [
       "<div>\n",
       "<style scoped>\n",
       "    .dataframe tbody tr th:only-of-type {\n",
       "        vertical-align: middle;\n",
       "    }\n",
       "\n",
       "    .dataframe tbody tr th {\n",
       "        vertical-align: top;\n",
       "    }\n",
       "\n",
       "    .dataframe thead th {\n",
       "        text-align: right;\n",
       "    }\n",
       "</style>\n",
       "<table border=\"1\" class=\"dataframe\">\n",
       "  <thead>\n",
       "    <tr style=\"text-align: right;\">\n",
       "      <th></th>\n",
       "      <th>Price</th>\n",
       "      <th>Year</th>\n",
       "      <th>Mileage</th>\n",
       "      <th>State</th>\n",
       "      <th>Make</th>\n",
       "      <th>Model</th>\n",
       "    </tr>\n",
       "  </thead>\n",
       "  <tbody>\n",
       "    <tr>\n",
       "      <th>10284</th>\n",
       "      <td>59990</td>\n",
       "      <td>2017</td>\n",
       "      <td>6358</td>\n",
       "      <td>5</td>\n",
       "      <td>26</td>\n",
       "      <td>142</td>\n",
       "    </tr>\n",
       "    <tr>\n",
       "      <th>10388</th>\n",
       "      <td>10490</td>\n",
       "      <td>2015</td>\n",
       "      <td>54086</td>\n",
       "      <td>2</td>\n",
       "      <td>5</td>\n",
       "      <td>163</td>\n",
       "    </tr>\n",
       "    <tr>\n",
       "      <th>22573</th>\n",
       "      <td>22546</td>\n",
       "      <td>2015</td>\n",
       "      <td>16951</td>\n",
       "      <td>5</td>\n",
       "      <td>8</td>\n",
       "      <td>263</td>\n",
       "    </tr>\n",
       "    <tr>\n",
       "      <th>18450</th>\n",
       "      <td>21998</td>\n",
       "      <td>2015</td>\n",
       "      <td>23953</td>\n",
       "      <td>27</td>\n",
       "      <td>10</td>\n",
       "      <td>60</td>\n",
       "    </tr>\n",
       "    <tr>\n",
       "      <th>25128</th>\n",
       "      <td>41991</td>\n",
       "      <td>2012</td>\n",
       "      <td>57197</td>\n",
       "      <td>7</td>\n",
       "      <td>18</td>\n",
       "      <td>181</td>\n",
       "    </tr>\n",
       "    <tr>\n",
       "      <th>...</th>\n",
       "      <td>...</td>\n",
       "      <td>...</td>\n",
       "      <td>...</td>\n",
       "      <td>...</td>\n",
       "      <td>...</td>\n",
       "      <td>...</td>\n",
       "    </tr>\n",
       "    <tr>\n",
       "      <th>30085</th>\n",
       "      <td>6000</td>\n",
       "      <td>2004</td>\n",
       "      <td>206003</td>\n",
       "      <td>39</td>\n",
       "      <td>9</td>\n",
       "      <td>381</td>\n",
       "    </tr>\n",
       "    <tr>\n",
       "      <th>11805</th>\n",
       "      <td>16900</td>\n",
       "      <td>2013</td>\n",
       "      <td>25922</td>\n",
       "      <td>14</td>\n",
       "      <td>10</td>\n",
       "      <td>33</td>\n",
       "    </tr>\n",
       "    <tr>\n",
       "      <th>13150</th>\n",
       "      <td>26800</td>\n",
       "      <td>2013</td>\n",
       "      <td>42332</td>\n",
       "      <td>20</td>\n",
       "      <td>19</td>\n",
       "      <td>321</td>\n",
       "    </tr>\n",
       "    <tr>\n",
       "      <th>25586</th>\n",
       "      <td>14995</td>\n",
       "      <td>2012</td>\n",
       "      <td>67468</td>\n",
       "      <td>19</td>\n",
       "      <td>9</td>\n",
       "      <td>182</td>\n",
       "    </tr>\n",
       "    <tr>\n",
       "      <th>45420</th>\n",
       "      <td>12825</td>\n",
       "      <td>2009</td>\n",
       "      <td>67693</td>\n",
       "      <td>15</td>\n",
       "      <td>24</td>\n",
       "      <td>114</td>\n",
       "    </tr>\n",
       "  </tbody>\n",
       "</table>\n",
       "<p>50000 rows × 6 columns</p>\n",
       "</div>"
      ],
      "text/plain": [
       "       Price  Year  Mileage  State  Make  Model\n",
       "10284  59990  2017     6358      5    26    142\n",
       "10388  10490  2015    54086      2     5    163\n",
       "22573  22546  2015    16951      5     8    263\n",
       "18450  21998  2015    23953     27    10     60\n",
       "25128  41991  2012    57197      7    18    181\n",
       "...      ...   ...      ...    ...   ...    ...\n",
       "30085   6000  2004   206003     39     9    381\n",
       "11805  16900  2013    25922     14    10     33\n",
       "13150  26800  2013    42332     20    19    321\n",
       "25586  14995  2012    67468     19     9    182\n",
       "45420  12825  2009    67693     15    24    114\n",
       "\n",
       "[50000 rows x 6 columns]"
      ]
     },
     "execution_count": 65,
     "metadata": {
      "tags": []
     },
     "output_type": "execute_result"
    }
   ],
   "source": [
    "data.iloc[samples[0], :]"
   ]
  },
  {
   "cell_type": "code",
   "execution_count": null,
   "metadata": {
    "colab": {
     "base_uri": "https://localhost:8080/",
     "height": 406
    },
    "colab_type": "code",
    "executionInfo": {
     "elapsed": 658,
     "status": "ok",
     "timestamp": 1593404833170,
     "user": {
      "displayName": "Julian Velasquez",
      "photoUrl": "",
      "userId": "11029812688284237125"
     },
     "user_tz": 300
    },
    "id": "OOVJZWvCVBM3",
    "outputId": "15762f55-05e3-41af-de8a-1e3459cc9621"
   },
   "outputs": [
    {
     "data": {
      "text/html": [
       "<div>\n",
       "<style scoped>\n",
       "    .dataframe tbody tr th:only-of-type {\n",
       "        vertical-align: middle;\n",
       "    }\n",
       "\n",
       "    .dataframe tbody tr th {\n",
       "        vertical-align: top;\n",
       "    }\n",
       "\n",
       "    .dataframe thead th {\n",
       "        text-align: right;\n",
       "    }\n",
       "</style>\n",
       "<table border=\"1\" class=\"dataframe\">\n",
       "  <thead>\n",
       "    <tr style=\"text-align: right;\">\n",
       "      <th></th>\n",
       "      <th>Price</th>\n",
       "      <th>Year</th>\n",
       "      <th>Mileage</th>\n",
       "      <th>State</th>\n",
       "      <th>Make</th>\n",
       "      <th>Model</th>\n",
       "    </tr>\n",
       "  </thead>\n",
       "  <tbody>\n",
       "    <tr>\n",
       "      <th>483658</th>\n",
       "      <td>9566</td>\n",
       "      <td>2008</td>\n",
       "      <td>186332</td>\n",
       "      <td>20</td>\n",
       "      <td>9</td>\n",
       "      <td>404</td>\n",
       "    </tr>\n",
       "    <tr>\n",
       "      <th>212833</th>\n",
       "      <td>18400</td>\n",
       "      <td>2017</td>\n",
       "      <td>26945</td>\n",
       "      <td>13</td>\n",
       "      <td>2</td>\n",
       "      <td>2</td>\n",
       "    </tr>\n",
       "    <tr>\n",
       "      <th>313444</th>\n",
       "      <td>24200</td>\n",
       "      <td>2017</td>\n",
       "      <td>4924</td>\n",
       "      <td>9</td>\n",
       "      <td>10</td>\n",
       "      <td>351</td>\n",
       "    </tr>\n",
       "    <tr>\n",
       "      <th>191196</th>\n",
       "      <td>7995</td>\n",
       "      <td>2009</td>\n",
       "      <td>89715</td>\n",
       "      <td>10</td>\n",
       "      <td>15</td>\n",
       "      <td>71</td>\n",
       "    </tr>\n",
       "    <tr>\n",
       "      <th>472999</th>\n",
       "      <td>27995</td>\n",
       "      <td>2014</td>\n",
       "      <td>62735</td>\n",
       "      <td>32</td>\n",
       "      <td>4</td>\n",
       "      <td>5</td>\n",
       "    </tr>\n",
       "    <tr>\n",
       "      <th>...</th>\n",
       "      <td>...</td>\n",
       "      <td>...</td>\n",
       "      <td>...</td>\n",
       "      <td>...</td>\n",
       "      <td>...</td>\n",
       "      <td>...</td>\n",
       "    </tr>\n",
       "    <tr>\n",
       "      <th>358763</th>\n",
       "      <td>16998</td>\n",
       "      <td>2011</td>\n",
       "      <td>63081</td>\n",
       "      <td>14</td>\n",
       "      <td>0</td>\n",
       "      <td>436</td>\n",
       "    </tr>\n",
       "    <tr>\n",
       "      <th>43858</th>\n",
       "      <td>15988</td>\n",
       "      <td>2013</td>\n",
       "      <td>86690</td>\n",
       "      <td>20</td>\n",
       "      <td>1</td>\n",
       "      <td>119</td>\n",
       "    </tr>\n",
       "    <tr>\n",
       "      <th>20491</th>\n",
       "      <td>22730</td>\n",
       "      <td>2016</td>\n",
       "      <td>7892</td>\n",
       "      <td>27</td>\n",
       "      <td>8</td>\n",
       "      <td>299</td>\n",
       "    </tr>\n",
       "    <tr>\n",
       "      <th>96152</th>\n",
       "      <td>17900</td>\n",
       "      <td>2016</td>\n",
       "      <td>47103</td>\n",
       "      <td>9</td>\n",
       "      <td>7</td>\n",
       "      <td>10</td>\n",
       "    </tr>\n",
       "    <tr>\n",
       "      <th>450638</th>\n",
       "      <td>19634</td>\n",
       "      <td>2013</td>\n",
       "      <td>52456</td>\n",
       "      <td>30</td>\n",
       "      <td>10</td>\n",
       "      <td>241</td>\n",
       "    </tr>\n",
       "  </tbody>\n",
       "</table>\n",
       "<p>500000 rows × 6 columns</p>\n",
       "</div>"
      ],
      "text/plain": [
       "        Price  Year  Mileage  State  Make  Model\n",
       "483658   9566  2008   186332     20     9    404\n",
       "212833  18400  2017    26945     13     2      2\n",
       "313444  24200  2017     4924      9    10    351\n",
       "191196   7995  2009    89715     10    15     71\n",
       "472999  27995  2014    62735     32     4      5\n",
       "...       ...   ...      ...    ...   ...    ...\n",
       "358763  16998  2011    63081     14     0    436\n",
       "43858   15988  2013    86690     20     1    119\n",
       "20491   22730  2016     7892     27     8    299\n",
       "96152   17900  2016    47103      9     7     10\n",
       "450638  19634  2013    52456     30    10    241\n",
       "\n",
       "[500000 rows x 6 columns]"
      ]
     },
     "execution_count": 66,
     "metadata": {
      "tags": []
     },
     "output_type": "execute_result"
    }
   ],
   "source": [
    "data.sample(frac=1)"
   ]
  },
  {
   "cell_type": "code",
   "execution_count": null,
   "metadata": {
    "colab": {
     "base_uri": "https://localhost:8080/",
     "height": 204
    },
    "colab_type": "code",
    "executionInfo": {
     "elapsed": 725,
     "status": "ok",
     "timestamp": 1593442627719,
     "user": {
      "displayName": "Julian Velasquez",
      "photoUrl": "",
      "userId": "11029812688284237125"
     },
     "user_tz": 300
    },
    "id": "-Q5bxK9_VdAE",
    "outputId": "0e8b2065-23fa-4ea9-ef42-85d03ca58eaa"
   },
   "outputs": [],
   "source": [
    "frac = 0.1\n",
    "data_sample = data.sample(frac=frac).reset_index(drop=True)\n",
    "data_sample.head()"
   ]
  },
  {
   "cell_type": "code",
   "execution_count": 13,
   "metadata": {
    "colab": {
     "base_uri": "https://localhost:8080/",
     "height": 34
    },
    "colab_type": "code",
    "executionInfo": {
     "elapsed": 880,
     "status": "ok",
     "timestamp": 1593442635549,
     "user": {
      "displayName": "Julian Velasquez",
      "photoUrl": "",
      "userId": "11029812688284237125"
     },
     "user_tz": 300
    },
    "id": "dxDuCT1rWzTF",
    "outputId": "344ad32e-e101-47cc-fe1e-97e83e79e372"
   },
   "outputs": [
    {
     "data": {
      "text/plain": [
       "RangeIndex(start=0, stop=50000, step=1)"
      ]
     },
     "execution_count": 13,
     "metadata": {
      "tags": []
     },
     "output_type": "execute_result"
    }
   ],
   "source": [
    "data_sample.index"
   ]
  },
  {
   "cell_type": "code",
   "execution_count": 37,
   "metadata": {
    "colab": {},
    "colab_type": "code",
    "executionInfo": {
     "elapsed": 842,
     "status": "ok",
     "timestamp": 1593447666925,
     "user": {
      "displayName": "Julian Velasquez",
      "photoUrl": "",
      "userId": "11029812688284237125"
     },
     "user_tz": 300
    },
    "id": "ZvWBpjsdtDpi"
   },
   "outputs": [],
   "source": [
    "from sklearn.metrics import mean_squared_error\n",
    "from sklearn.ensemble import RandomForestRegressor\n",
    "from matplotlib import pyplot as plt\n",
    "import numpy as np"
   ]
  },
  {
   "cell_type": "markdown",
   "metadata": {
    "colab_type": "text",
    "id": "W7Z0nxieuhT0"
   },
   "source": [
    "#### Random Forest"
   ]
  },
  {
   "cell_type": "markdown",
   "metadata": {},
   "source": [
    "## Random Forest\n",
    "Estimating Random Forest models with Manual-Cross Validation. For every k-fold (test, and trainin iteration) we run several tree_regressors (several estimators) on training sets,  and then  predict in test and calculate the error for each one and then save in list:                                                                    \n",
    "1. We define the range of the k-folds depending of the fraction that we used to take the sample \n",
    "\n",
    "2. Second, before doing the k_folds iterations, we define the estimator range for each model, this is from 100 to 400 trees and steps by 100 trees to stimate\n",
    "\n",
    "3. We define the iterations, first iteration is to do the cross validation, this is taking tests of size (500000*frac) and the rest as train, and iterates over all the index of the sample data, changing the test (not reapeating values) and the respective train\n",
    "\n",
    "4. The second iteration,  iterates on the estimators or trees, then the random forestRegressor is trained for every tree and then error is caclculated and saved in list for every tree."
   ]
  },
  {
   "cell_type": "code",
   "execution_count": null,
   "metadata": {
    "colab": {
     "base_uri": "https://localhost:8080/",
     "height": 1000
    },
    "colab_type": "code",
    "executionInfo": {
     "elapsed": 1119516,
     "status": "ok",
     "timestamp": 1593410138274,
     "user": {
      "displayName": "Julian Velasquez",
      "photoUrl": "",
      "userId": "11029812688284237125"
     },
     "user_tz": 300
    },
    "id": "KGsKJbiWWmz3",
    "outputId": "d44247d1-599c-4df0-845f-5b6522440d02"
   },
   "outputs": [
    {
     "name": "stdout",
     "output_type": "stream",
     "text": [
      "   Price  Year  Mileage  State  Make  Model\n",
      "0  34988  2017    12540     17     4     20\n",
      "1  31994  2015    33865     27    10     37\n",
      "2  14736  2014    51988     14     4     18\n",
      "3  22790  2011    92952     21     9    313\n",
      "4   5550  2005   149726     14    10     60\n",
      "      Price  Year  Mileage  State  Make  Model\n",
      "4995  15888  2015    59262      8     4     73\n",
      "4996  10000  2013    80791     19     7      3\n",
      "4997  34988  2016    68539     37     9     82\n",
      "4998  20988  2016    21806     35     9     35\n",
      "4999  13995  2013   123507     27     2    283\n",
      "2586730.421846802\n",
      "2481069.950960347\n",
      "2478079.248422195\n",
      "2455713.9573913654\n",
      "      Price  Year  Mileage  State  Make  Model\n",
      "5000  14995  2010    76877     23     0      0\n",
      "5001  43844  2014    13753     31     8     12\n",
      "5002  10987  2005    97851     20     3    255\n",
      "5003  15541  2016    41205     46     3     27\n",
      "5004   8500  2010   147253     17    15    169\n",
      "      Price  Year  Mileage  State  Make  Model\n",
      "9995  21995  2016    15723     30     8     12\n",
      "9996  14000  2014    50049     17     9    101\n",
      "9997  17500  2015     4899      4    11     77\n",
      "9998  18991  2014    58727     26     2    283\n",
      "9999  34495  2016    21935      8     6    180\n",
      "2816409.6387175657\n",
      "2782393.3533859933\n",
      "2755783.5901717977\n",
      "2743319.5338139376\n",
      "       Price  Year  Mileage  State  Make  Model\n",
      "10000  18495  2014    64330     18    10     33\n",
      "10001  27230  2015    41817     27    17     95\n",
      "10002  18900  2006   183864      9     7     76\n",
      "10003  33000  2014    56569     21    14     28\n",
      "10004  11470  2011   112847     41    10    241\n",
      "       Price  Year  Mileage  State  Make  Model\n",
      "14995   9899  2015    57219     35     9    485\n",
      "14996  16999  2015    21144     13     9    101\n",
      "14997  17700  2017    27594      5     9    101\n",
      "14998  17997  2014    10716     10    10     33\n",
      "14999  16495  2015    38717     25     9    137\n",
      "2428003.637852507\n",
      "2396260.779683387\n",
      "2373005.307276097\n",
      "2353358.549474021\n",
      "       Price  Year  Mileage  State  Make  Model\n",
      "15000  46453  2016    12007     18     8     12\n",
      "15001  47938  2017     6599     26    26    142\n",
      "15002  39499  2015    57886     24     4     56\n",
      "15003  10990  2008    80691     19     6    195\n",
      "15004  59988  2016     8375      9     4     11\n",
      "       Price  Year  Mileage  State  Make  Model\n",
      "19995  21295  2011   111718      9     4    106\n",
      "19996  10790  2012    45578     19     4    275\n",
      "19997  17990  2007    72777     16     1     13\n",
      "19998  29969  2015    32402     21    19    266\n",
      "19999  13000  2013   116372     19     5    256\n",
      "2620433.1776710306\n",
      "2557027.846872928\n",
      "2540759.2084284197\n",
      "2532942.3823320083\n",
      "       Price  Year  Mileage  State  Make  Model\n",
      "20000   6990  2005   175350      4    10     33\n",
      "20001  16500  2015    53144     24     2     49\n",
      "20002  16991  2015    26054      5     5    221\n",
      "20003  22250  2016    19085     11    16     38\n",
      "20004  10995  2015    18184     28    35    463\n",
      "       Price  Year  Mileage  State  Make  Model\n",
      "24995  28772  2015    49413      4     4    106\n",
      "24996  28000  2014    58094      8     1     13\n",
      "24997  38995  2015    28978     16     9    115\n",
      "24998  12888  2011    39684     21     0     30\n",
      "24999   5499  2012    86648      5    35    463\n",
      "2493034.793063025\n",
      "2452291.6726314565\n",
      "2410050.388684171\n",
      "2384166.5711818975\n",
      "       Price  Year  Mileage  State  Make  Model\n",
      "25000  33145  2015    33154      3     4      5\n",
      "25001  31385  2015   117675     14     4     11\n",
      "25002   8949  2013    64065      5     9    172\n",
      "25003  18888  2017     2997     22     7    281\n",
      "25004  12000  2008   130510     39     4      5\n",
      "       Price  Year  Mileage  State  Make  Model\n",
      "29995  13295  2012    82385     35     4    332\n",
      "29996  14999  2014    22413      5    10     51\n",
      "29997  27997  2015    35832      9     6    204\n",
      "29998   6995  2010   155976      4    10     31\n",
      "29999  28751  2016    36852     13     7     85\n",
      "2616280.652466052\n",
      "2555893.938135122\n",
      "2544731.307863405\n",
      "2536997.148781442\n",
      "       Price  Year  Mileage  State  Make  Model\n",
      "30000  16995  2014    33941      2    16    349\n",
      "30001  14988  2012    24333      8    11     22\n",
      "30002  13995  2013    79190     22     1    121\n",
      "30003  15791  2016    46755     22     1    145\n",
      "30004  10977  2010   102563     20     4     48\n",
      "       Price  Year  Mileage  State  Make  Model\n",
      "34995  27990  2013    56783     20     8    201\n",
      "34996  14991  2015    29493      2    16    315\n",
      "34997  17859  2015    35949     21     1    121\n",
      "34998  19499  2010    28631     30     4    160\n",
      "34999  11565  2006   108351      7     0    164\n",
      "2473611.91754514\n",
      "2433885.924747674\n",
      "2402447.428785653\n",
      "2417145.8681298653\n",
      "       Price  Year  Mileage  State  Make  Model\n",
      "35000  17181  2015    17561     13    10     34\n",
      "35001   7900  2007   138361     30     0    293\n",
      "35002  16512  2013    45995     24     3     27\n",
      "35003   8998  2012    79750      6     4    401\n",
      "35004  15998  2014    48389      9    10     60\n",
      "       Price  Year  Mileage  State  Make  Model\n",
      "39995  30000  2017     4107     17     2      2\n",
      "39996  14696  2015    46211     25     4    264\n",
      "39997  13988  2014    60606     23    10     33\n",
      "39998  27500  2014    48333     19     4     84\n",
      "39999  28263  2015    55587     28     1     13\n",
      "2547630.784197252\n",
      "2516068.0715921433\n",
      "2473336.6074569793\n",
      "2487278.1306957747\n",
      "       Price  Year  Mileage  State  Make  Model\n",
      "40000  14927  2013    65360      2    10     33\n",
      "40001   9272  2010    63038      5     4     91\n",
      "40002   6990  2007   149867     21     4    116\n",
      "40003   9995  2011    57837     19     2      7\n",
      "40004  13995  2011    73443      9     6    195\n",
      "       Price  Year  Mileage  State  Make  Model\n",
      "44995  32491  2015    47477      9     4      5\n",
      "44996  18995  2012    77305     21     4    403\n",
      "44997  36794  2015    47661     45     9    115\n",
      "44998  32777  2016    29589     28     3      4\n",
      "44999  17295  2014    12758      4    10     51\n",
      "2529230.2026519654\n",
      "2522310.8412846313\n",
      "2519169.7184692114\n",
      "2508758.4378887764\n",
      "       Price  Year  Mileage  State  Make  Model\n",
      "45000   5999  2007   136005     19    23    108\n",
      "45001  42997  2014    14641      7     8    299\n",
      "45002  35999  2015    22540     22     7    328\n",
      "45003  30880  2014    45415      5     6      9\n",
      "45004  15995  2007   125980      4     1    123\n",
      "       Price  Year  Mileage  State  Make  Model\n",
      "49995  20998  2016    42788     13     2      2\n",
      "49996  14995  2007   152560     42     1    238\n",
      "49997  44987  2017     6566     21     6    107\n",
      "49998  26271  2014    35159     20    14    102\n",
      "49999  19375  2013    54449      5     6    180\n",
      "2504309.7183845527\n",
      "2454633.9224931\n",
      "2433124.82398205\n",
      "2434947.135111846\n"
     ]
    }
   ],
   "source": [
    "k_fold_range = range(0,int(500000*frac),int(50000*frac))\n",
    "\n",
    "estimator_range = range(100, 500, 100)\n",
    "MSE_scores = []\n",
    "\n",
    "for i in k_fold_range:\n",
    "  data_test = data_sample.iloc[i:i+int(50000*frac)]\n",
    "  data_train = data_sample[~data_sample.index.isin(data_test.index)]\n",
    "\n",
    "  print(data_test.head())\n",
    "  print(data_test.tail())\n",
    "\n",
    "  X_train = data_train.drop(\"Price\",axis = 1)\n",
    "  Y_train = data_train[\"Price\"]\n",
    "\n",
    "  X_test = data_test.drop(\"Price\",axis = 1)\n",
    "  Y_test = data_test[\"Price\"]\n",
    "\n",
    "  for estimator in estimator_range:\n",
    "        clf = RandomForestRegressor(n_estimators=estimator, random_state=1, n_jobs=-1)\n",
    "        clf.fit(X_train,Y_train)\n",
    "        y_pred = clf.predict(X_test)\n",
    "        error = mean_squared_error(Y_test,y_pred)\n",
    "        print(error)\n",
    "        MSE_scores.append(error)"
   ]
  },
  {
   "cell_type": "markdown",
   "metadata": {},
   "source": [
    "### We have four models given that we ensembled  100 trees in M1,  200 in M2, 300 in M3, and  400 in M4. then in the next code, we are averaging for every Model the sub-models obtained with  10 K folds to get the average MSE \n",
    "All this procedure and combination of ensmbles is to find the best model with the lowest MSE posible"
   ]
  },
  {
   "cell_type": "code",
   "execution_count": null,
   "metadata": {
    "colab": {
     "base_uri": "https://localhost:8080/",
     "height": 105
    },
    "colab_type": "code",
    "executionInfo": {
     "elapsed": 613,
     "status": "ok",
     "timestamp": 1593411359963,
     "user": {
      "displayName": "Julian Velasquez",
      "photoUrl": "",
      "userId": "11029812688284237125"
     },
     "user_tz": 300
    },
    "id": "nN5gmKxrpWoc",
    "outputId": "9c291f9e-a6f1-4998-dc8f-5c14d20b7a44"
   },
   "outputs": [
    {
     "name": "stdout",
     "output_type": "stream",
     "text": [
      "Estimators(100): 2561567.4944395893\n",
      "Estimators(200): 2515183.630178678\n",
      "Estimators(300): 2493048.7629539976\n",
      "Estimators(400): 2485462.7714800932\n"
     ]
    },
    {
     "data": {
      "text/plain": [
       "[2561567.4944395893, 2515183.630178678, 2493048.7629539976, 2485462.7714800932]"
      ]
     },
     "execution_count": 126,
     "metadata": {
      "tags": []
     },
     "output_type": "execute_result"
    }
   ],
   "source": [
    "Modelo_1 = (MSE_scores[0]+MSE_scores[4]+MSE_scores[8]+MSE_scores[12]+MSE_scores[16]+MSE_scores[20]+MSE_scores[24]+MSE_scores[28]+MSE_scores[32]+MSE_scores[36])/10\n",
    "Modelo_2 = (MSE_scores[1]+MSE_scores[5]+MSE_scores[9]+MSE_scores[13]+MSE_scores[17]+MSE_scores[21]+MSE_scores[25]+MSE_scores[29]+MSE_scores[33]+MSE_scores[37])/10\n",
    "Modelo_3 = (MSE_scores[2]+MSE_scores[6]+MSE_scores[10]+MSE_scores[14]+MSE_scores[18]+MSE_scores[22]+MSE_scores[26]+MSE_scores[30]+MSE_scores[34]+MSE_scores[38])/10\n",
    "Modelo_4 = (MSE_scores[3]+MSE_scores[7]+MSE_scores[11]+MSE_scores[15]+MSE_scores[19]+MSE_scores[23]+MSE_scores[27]+MSE_scores[31]+MSE_scores[35]+MSE_scores[39])/10\n",
    "print(\"Estimators(100): \" + str(Modelo_1))\n",
    "print(\"Estimators(200): \" + str(Modelo_2))\n",
    "print(\"Estimators(300): \" + str(Modelo_3))\n",
    "print(\"Estimators(400): \" + str(Modelo_4))\n",
    "\n",
    "MSE_Finales = []\n",
    "\n",
    "MSE_Finales.append(Modelo_1)\n",
    "MSE_Finales.append(Modelo_2)\n",
    "MSE_Finales.append(Modelo_3)\n",
    "MSE_Finales.append(Modelo_4)"
   ]
  },
  {
   "cell_type": "markdown",
   "metadata": {},
   "source": [
    "### Graphs of tunning Parameters"
   ]
  },
  {
   "cell_type": "markdown",
   "metadata": {},
   "source": [
    "### 1. Number of stimators parameter\n",
    "I n the graph bellow we can see that the more trees we ensemble the lower is the MSE, however from  200 tress onward the improvements become lower at high computational cost. Therefore we have decided to select 200 stimators as the best parameter considering MSE and Computational running constraints."
   ]
  },
  {
   "cell_type": "code",
   "execution_count": null,
   "metadata": {
    "colab": {
     "base_uri": "https://localhost:8080/",
     "height": 308
    },
    "colab_type": "code",
    "executionInfo": {
     "elapsed": 610,
     "status": "ok",
     "timestamp": 1593411386369,
     "user": {
      "displayName": "Julian Velasquez",
      "photoUrl": "",
      "userId": "11029812688284237125"
     },
     "user_tz": 300
    },
    "id": "VQGjXOaj95in",
    "outputId": "7e75fc51-e004-417e-ae60-b5cfedb77018"
   },
   "outputs": [
    {
     "data": {
      "text/plain": [
       "Text(0, 0.5, 'MSE')"
      ]
     },
     "execution_count": 128,
     "metadata": {
      "tags": []
     },
     "output_type": "execute_result"
    },
    {
     "data": {
      "image/png": "[encoded data removed]",
      "text/plain": [
       "<Figure size 432x288 with 1 Axes>"
      ]
     },
     "metadata": {
      "needs_background": "light",
      "tags": []
     },
     "output_type": "display_data"
    }
   ],
   "source": [
    "plt.plot(estimator_range, MSE_Finales)\n",
    "plt.xlabel('n_estimators')\n",
    "plt.ylabel('MSE')"
   ]
  },
  {
   "cell_type": "markdown",
   "metadata": {
    "colab": {
     "base_uri": "https://localhost:8080/",
     "height": 905
    },
    "colab_type": "code",
    "executionInfo": {
     "elapsed": 1153841,
     "status": "ok",
     "timestamp": 1593412830979,
     "user": {
      "displayName": "Julian Velasquez",
      "photoUrl": "",
      "userId": "11029812688284237125"
     },
     "user_tz": 300
    },
    "id": "UgoJYPWmuIwL",
    "outputId": "97403da7-9aaa-41ff-e413-a2d858ab4423"
   },
   "source": [
    "### 2. Number of features parameter\n",
    "\n",
    "We ran Random Forest models again with Manual-Cross Validation, and also we iterate over the # of features in order to stablish the lowest mse. In this case we already set the number of stimators to 200, given the previous result.                         "
   ]
  },
  {
   "cell_type": "code",
   "execution_count": null,
   "metadata": {
    "colab": {
     "base_uri": "https://localhost:8080/",
     "height": 905
    },
    "colab_type": "code",
    "executionInfo": {
     "elapsed": 1153841,
     "status": "ok",
     "timestamp": 1593412830979,
     "user": {
      "displayName": "Julian Velasquez",
      "photoUrl": "",
      "userId": "11029812688284237125"
     },
     "user_tz": 300
    },
    "id": "UgoJYPWmuIwL",
    "outputId": "97403da7-9aaa-41ff-e413-a2d858ab4423"
   },
   "outputs": [
    {
     "name": "stdout",
     "output_type": "stream",
     "text": [
      "3824667.2367045362\n",
      "2821290.133861934\n",
      "2549917.3710461464\n",
      "2471188.8968335106\n",
      "2450361.6365424544\n",
      "4374831.0291042095\n",
      "3304317.1720295986\n",
      "2906481.8931846665\n",
      "2783324.7869139994\n",
      "2755783.5901717977\n",
      "3859138.8865078324\n",
      "2860010.4668455445\n",
      "2508286.1304983133\n",
      "2400528.7713947115\n",
      "2373005.307276097\n",
      "4222247.704965105\n",
      "3102861.231540103\n",
      "2686870.950731549\n",
      "2572463.1572822183\n",
      "2540759.2084284197\n",
      "4055708.467481427\n",
      "2952855.705550758\n",
      "2586130.052046328\n",
      "2466985.4683663757\n",
      "2410050.388684171\n",
      "4264297.94888082\n",
      "3088713.637077918\n",
      "2677023.8278421303\n",
      "2571696.503165539\n",
      "2544731.307863405\n",
      "4047485.818346733\n",
      "2919562.317529469\n",
      "2546037.9735200224\n",
      "2427002.500762571\n",
      "2402447.428785653\n",
      "4008102.6032971693\n",
      "2999749.648012864\n",
      "2643191.2705863863\n",
      "2496498.6384413247\n",
      "2473336.6074569793\n",
      "4479552.849408795\n",
      "3163552.744601661\n",
      "2698840.199213311\n",
      "2534714.754700357\n",
      "2519169.7184692114\n",
      "4072322.147608262\n",
      "2972795.6586914505\n",
      "2594684.104745403\n",
      "2487007.080749043\n",
      "2433124.82398205\n"
     ]
    }
   ],
   "source": [
    "k_fold_range = range(0,int(500000*frac),int(50000*frac))\n",
    "\n",
    "features_range = range(1, 6, 1)\n",
    "MSE_scores = []\n",
    "\n",
    "for i in k_fold_range:\n",
    "  data_test = data_sample.iloc[i:i+int(50000*frac)]\n",
    "  data_train = data_sample[~data_sample.index.isin(data_test.index)]\n",
    "\n",
    "  X_train = data_train.drop(\"Price\",axis = 1)\n",
    "  Y_train = data_train[\"Price\"]\n",
    "\n",
    "  X_test = data_test.drop(\"Price\",axis = 1)\n",
    "  Y_test = data_test[\"Price\"]\n",
    "\n",
    "  for feature in features_range:\n",
    "        clf = RandomForestRegressor(n_estimators=200,max_features=feature, random_state=1, n_jobs=-1)\n",
    "        clf.fit(X_train,Y_train)\n",
    "        y_pred = clf.predict(X_test)\n",
    "        error = mean_squared_error(Y_test,y_pred)\n",
    "        print(error)\n",
    "        MSE_scores.append(error)"
   ]
  },
  {
   "cell_type": "code",
   "execution_count": null,
   "metadata": {
    "colab": {
     "base_uri": "https://localhost:8080/",
     "height": 105
    },
    "colab_type": "code",
    "executionInfo": {
     "elapsed": 633,
     "status": "ok",
     "timestamp": 1593413107872,
     "user": {
      "displayName": "Julian Velasquez",
      "photoUrl": "",
      "userId": "11029812688284237125"
     },
     "user_tz": 300
    },
    "id": "z8cDFkrUvNPT",
    "outputId": "0881c9b1-1973-4388-9658-43ece460c4d4"
   },
   "outputs": [
    {
     "name": "stdout",
     "output_type": "stream",
     "text": [
      "Features(1): 4120835.4692304893\n",
      "Features(2): 3018570.87157413\n",
      "Features(3): 2639746.377341426\n",
      "Features(4): 2521141.055860965\n",
      "Features(5): 2490277.001766023\n"
     ]
    }
   ],
   "source": [
    "Modelo_1 = (MSE_scores[0]+MSE_scores[5]+MSE_scores[10]+MSE_scores[15]+MSE_scores[20]+MSE_scores[25]+MSE_scores[30]+MSE_scores[35]+MSE_scores[40]+MSE_scores[45])/10\n",
    "Modelo_2 = (MSE_scores[1]+MSE_scores[6]+MSE_scores[11]+MSE_scores[16]+MSE_scores[21]+MSE_scores[26]+MSE_scores[31]+MSE_scores[36]+MSE_scores[41]+MSE_scores[46])/10\n",
    "Modelo_3 = (MSE_scores[2]+MSE_scores[7]+MSE_scores[12]+MSE_scores[17]+MSE_scores[22]+MSE_scores[27]+MSE_scores[32]+MSE_scores[37]+MSE_scores[42]+MSE_scores[47])/10\n",
    "Modelo_4 = (MSE_scores[3]+MSE_scores[8]+MSE_scores[13]+MSE_scores[18]+MSE_scores[23]+MSE_scores[28]+MSE_scores[33]+MSE_scores[38]+MSE_scores[43]+MSE_scores[48])/10\n",
    "Modelo_5 = (MSE_scores[4]+MSE_scores[9]+MSE_scores[14]+MSE_scores[19]+MSE_scores[24]+MSE_scores[29]+MSE_scores[34]+MSE_scores[39]+MSE_scores[44]+MSE_scores[49])/10\n",
    "print(\"Features(1): \" + str(Modelo_1))\n",
    "print(\"Features(2): \" + str(Modelo_2))\n",
    "print(\"Features(3): \" + str(Modelo_3))\n",
    "print(\"Features(4): \" + str(Modelo_4))\n",
    "print(\"Features(5): \" + str(Modelo_5))\n",
    "\n",
    "MSE_Finales = []\n",
    "\n",
    "MSE_Finales.append(Modelo_1)\n",
    "MSE_Finales.append(Modelo_2)\n",
    "MSE_Finales.append(Modelo_3)\n",
    "MSE_Finales.append(Modelo_4)\n",
    "MSE_Finales.append(Modelo_5)"
   ]
  },
  {
   "cell_type": "markdown",
   "metadata": {
    "colab": {
     "base_uri": "https://localhost:8080/",
     "height": 308
    },
    "colab_type": "code",
    "executionInfo": {
     "elapsed": 637,
     "status": "ok",
     "timestamp": 1593413109740,
     "user": {
      "displayName": "Julian Velasquez",
      "photoUrl": "",
      "userId": "11029812688284237125"
     },
     "user_tz": 300
    },
    "id": "ohZtomz0pOR1",
    "outputId": "7331c091-d80e-4f74-83f1-ab33dc91c7fa"
   },
   "source": [
    "### The lowest MSE is found with 5 features which is the total features we have in the original data. In this case we can set this parameter to 4, even thout is lower with 5, the improvement is not significant. "
   ]
  },
  {
   "cell_type": "code",
   "execution_count": null,
   "metadata": {
    "colab": {
     "base_uri": "https://localhost:8080/",
     "height": 308
    },
    "colab_type": "code",
    "executionInfo": {
     "elapsed": 637,
     "status": "ok",
     "timestamp": 1593413109740,
     "user": {
      "displayName": "Julian Velasquez",
      "photoUrl": "",
      "userId": "11029812688284237125"
     },
     "user_tz": 300
    },
    "id": "ohZtomz0pOR1",
    "outputId": "7331c091-d80e-4f74-83f1-ab33dc91c7fa"
   },
   "outputs": [
    {
     "data": {
      "text/plain": [
       "Text(0, 0.5, 'MSE')"
      ]
     },
     "execution_count": 134,
     "metadata": {
      "tags": []
     },
     "output_type": "execute_result"
    },
    {
     "data": {
      "image/png": "[encoded data removed]",
      "text/plain": [
       "<Figure size 432x288 with 1 Axes>"
      ]
     },
     "metadata": {
      "needs_background": "light",
      "tags": []
     },
     "output_type": "display_data"
    }
   ],
   "source": [
    "plt.plot(features_range, MSE_Finales)\n",
    "plt.xlabel('max_features')\n",
    "plt.ylabel('MSE')"
   ]
  },
  {
   "cell_type": "markdown",
   "metadata": {
    "colab_type": "text",
    "id": "_b7rtYvK1dbI"
   },
   "source": []
  },
  {
   "cell_type": "markdown",
   "metadata": {
    "colab": {
     "base_uri": "https://localhost:8080/",
     "height": 207
    },
    "colab_type": "code",
    "executionInfo": {
     "elapsed": 2836147,
     "status": "ok",
     "timestamp": 1593447118729,
     "user": {
      "displayName": "Julian Velasquez",
      "photoUrl": "",
      "userId": "11029812688284237125"
     },
     "user_tz": 300
    },
    "id": "d004TGOA3gMF",
    "outputId": "2e4007e1-5fe9-4d26-f055-dbc823d1773e"
   },
   "source": [
    "### 3. Max_depth parameter\n",
    "Now taking the best parameter values from the previous tuning (iterators =200, and features =4), we now do tunning changing the max_depth, this is related to the levels of the tree to be grown."
   ]
  },
  {
   "cell_type": "code",
   "execution_count": 27,
   "metadata": {
    "colab": {
     "base_uri": "https://localhost:8080/",
     "height": 207
    },
    "colab_type": "code",
    "executionInfo": {
     "elapsed": 2836147,
     "status": "ok",
     "timestamp": 1593447118729,
     "user": {
      "displayName": "Julian Velasquez",
      "photoUrl": "",
      "userId": "11029812688284237125"
     },
     "user_tz": 300
    },
    "id": "d004TGOA3gMF",
    "outputId": "2e4007e1-5fe9-4d26-f055-dbc823d1773e"
   },
   "outputs": [
    {
     "name": "stdout",
     "output_type": "stream",
     "text": [
      "[[90323392.31823471, 81952879.47768448, 74492487.79627362, 69585737.75720261, 64910693.62918584, 60281863.276908726, 54195390.293495625, 48403206.922997974, 42210353.61416862, 36369603.75299126, 31269901.474264257, 27090071.293607637, 24152892.40351928, 21860988.030150007, 20341700.517774466, 19539419.63742041, 19016388.58433986, 18658281.601286203, 18456473.419125587, 18374020.62181946]]\n",
      "[[90323392.31823471, 81952879.47768448, 74492487.79627362, 69585737.75720261, 64910693.62918584, 60281863.276908726, 54195390.293495625, 48403206.922997974, 42210353.61416862, 36369603.75299126, 31269901.474264257, 27090071.293607637, 24152892.40351928, 21860988.030150007, 20341700.517774466, 19539419.63742041, 19016388.58433986, 18658281.601286203, 18456473.419125587, 18374020.62181946], [91894011.18408735, 82057520.21102813, 73146469.29634489, 67244329.01114611, 62462136.510800295, 57878518.15941321, 51813990.48471905, 46038182.8334108, 39763525.84122743, 34345299.751948275, 29682914.316744618, 25613586.871105816, 22837749.643505067, 20975608.985745747, 19684048.947513025, 18944157.135093074, 18357820.420412395, 18109008.26256271, 18010579.437527746, 17795125.574616462]]\n",
      "[[90323392.31823471, 81952879.47768448, 74492487.79627362, 69585737.75720261, 64910693.62918584, 60281863.276908726, 54195390.293495625, 48403206.922997974, 42210353.61416862, 36369603.75299126, 31269901.474264257, 27090071.293607637, 24152892.40351928, 21860988.030150007, 20341700.517774466, 19539419.63742041, 19016388.58433986, 18658281.601286203, 18456473.419125587, 18374020.62181946], [91894011.18408735, 82057520.21102813, 73146469.29634489, 67244329.01114611, 62462136.510800295, 57878518.15941321, 51813990.48471905, 46038182.8334108, 39763525.84122743, 34345299.751948275, 29682914.316744618, 25613586.871105816, 22837749.643505067, 20975608.985745747, 19684048.947513025, 18944157.135093074, 18357820.420412395, 18109008.26256271, 18010579.437527746, 17795125.574616462], [96445194.71898843, 87091909.30679844, 79336806.16617276, 74457786.1109228, 69715431.35500805, 64397610.883088954, 57518834.031989284, 50840173.0024912, 44296176.44874838, 38476882.369749, 33449187.456424206, 29231092.840039708, 25841215.456379477, 23636528.71868519, 22033706.169907838, 20930361.44295373, 20405069.5116955, 19872159.633328583, 19698724.17238261, 19684429.15947123]]\n",
      "[[90323392.31823471, 81952879.47768448, 74492487.79627362, 69585737.75720261, 64910693.62918584, 60281863.276908726, 54195390.293495625, 48403206.922997974, 42210353.61416862, 36369603.75299126, 31269901.474264257, 27090071.293607637, 24152892.40351928, 21860988.030150007, 20341700.517774466, 19539419.63742041, 19016388.58433986, 18658281.601286203, 18456473.419125587, 18374020.62181946], [91894011.18408735, 82057520.21102813, 73146469.29634489, 67244329.01114611, 62462136.510800295, 57878518.15941321, 51813990.48471905, 46038182.8334108, 39763525.84122743, 34345299.751948275, 29682914.316744618, 25613586.871105816, 22837749.643505067, 20975608.985745747, 19684048.947513025, 18944157.135093074, 18357820.420412395, 18109008.26256271, 18010579.437527746, 17795125.574616462], [96445194.71898843, 87091909.30679844, 79336806.16617276, 74457786.1109228, 69715431.35500805, 64397610.883088954, 57518834.031989284, 50840173.0024912, 44296176.44874838, 38476882.369749, 33449187.456424206, 29231092.840039708, 25841215.456379477, 23636528.71868519, 22033706.169907838, 20930361.44295373, 20405069.5116955, 19872159.633328583, 19698724.17238261, 19684429.15947123], [91206057.52192837, 80981561.08105381, 73076086.8043847, 68275422.81247903, 63246821.4625634, 57854385.27309974, 51872457.810181744, 46372576.02462103, 40800524.2745631, 34704145.54957098, 30128248.34352157, 26198756.88749772, 23353088.907720186, 21308733.015744995, 20000737.36011344, 19262154.92544895, 18713166.415081657, 18377195.91347909, 18182630.76163821, 18030354.445372563]]\n",
      "[[90323392.31823471, 81952879.47768448, 74492487.79627362, 69585737.75720261, 64910693.62918584, 60281863.276908726, 54195390.293495625, 48403206.922997974, 42210353.61416862, 36369603.75299126, 31269901.474264257, 27090071.293607637, 24152892.40351928, 21860988.030150007, 20341700.517774466, 19539419.63742041, 19016388.58433986, 18658281.601286203, 18456473.419125587, 18374020.62181946], [91894011.18408735, 82057520.21102813, 73146469.29634489, 67244329.01114611, 62462136.510800295, 57878518.15941321, 51813990.48471905, 46038182.8334108, 39763525.84122743, 34345299.751948275, 29682914.316744618, 25613586.871105816, 22837749.643505067, 20975608.985745747, 19684048.947513025, 18944157.135093074, 18357820.420412395, 18109008.26256271, 18010579.437527746, 17795125.574616462], [96445194.71898843, 87091909.30679844, 79336806.16617276, 74457786.1109228, 69715431.35500805, 64397610.883088954, 57518834.031989284, 50840173.0024912, 44296176.44874838, 38476882.369749, 33449187.456424206, 29231092.840039708, 25841215.456379477, 23636528.71868519, 22033706.169907838, 20930361.44295373, 20405069.5116955, 19872159.633328583, 19698724.17238261, 19684429.15947123], [91206057.52192837, 80981561.08105381, 73076086.8043847, 68275422.81247903, 63246821.4625634, 57854385.27309974, 51872457.810181744, 46372576.02462103, 40800524.2745631, 34704145.54957098, 30128248.34352157, 26198756.88749772, 23353088.907720186, 21308733.015744995, 20000737.36011344, 19262154.92544895, 18713166.415081657, 18377195.91347909, 18182630.76163821, 18030354.445372563], [91451409.49246901, 82643205.87892231, 74165241.19472489, 68418342.75775298, 63687596.250099465, 58266097.271338634, 51740592.57450973, 45701445.200833224, 39759971.80616376, 34443334.449853525, 29939724.29677484, 26125356.485157073, 23193273.25002674, 21126751.869025066, 19536947.511339463, 18670397.831855036, 18040038.145377968, 17778407.632839058, 17572721.21348666, 17393633.8904634]]\n",
      "[[90323392.31823471, 81952879.47768448, 74492487.79627362, 69585737.75720261, 64910693.62918584, 60281863.276908726, 54195390.293495625, 48403206.922997974, 42210353.61416862, 36369603.75299126, 31269901.474264257, 27090071.293607637, 24152892.40351928, 21860988.030150007, 20341700.517774466, 19539419.63742041, 19016388.58433986, 18658281.601286203, 18456473.419125587, 18374020.62181946], [91894011.18408735, 82057520.21102813, 73146469.29634489, 67244329.01114611, 62462136.510800295, 57878518.15941321, 51813990.48471905, 46038182.8334108, 39763525.84122743, 34345299.751948275, 29682914.316744618, 25613586.871105816, 22837749.643505067, 20975608.985745747, 19684048.947513025, 18944157.135093074, 18357820.420412395, 18109008.26256271, 18010579.437527746, 17795125.574616462], [96445194.71898843, 87091909.30679844, 79336806.16617276, 74457786.1109228, 69715431.35500805, 64397610.883088954, 57518834.031989284, 50840173.0024912, 44296176.44874838, 38476882.369749, 33449187.456424206, 29231092.840039708, 25841215.456379477, 23636528.71868519, 22033706.169907838, 20930361.44295373, 20405069.5116955, 19872159.633328583, 19698724.17238261, 19684429.15947123], [91206057.52192837, 80981561.08105381, 73076086.8043847, 68275422.81247903, 63246821.4625634, 57854385.27309974, 51872457.810181744, 46372576.02462103, 40800524.2745631, 34704145.54957098, 30128248.34352157, 26198756.88749772, 23353088.907720186, 21308733.015744995, 20000737.36011344, 19262154.92544895, 18713166.415081657, 18377195.91347909, 18182630.76163821, 18030354.445372563], [91451409.49246901, 82643205.87892231, 74165241.19472489, 68418342.75775298, 63687596.250099465, 58266097.271338634, 51740592.57450973, 45701445.200833224, 39759971.80616376, 34443334.449853525, 29939724.29677484, 26125356.485157073, 23193273.25002674, 21126751.869025066, 19536947.511339463, 18670397.831855036, 18040038.145377968, 17778407.632839058, 17572721.21348666, 17393633.8904634], [92250041.63557371, 83034633.97944166, 75148507.49043499, 69742894.85509229, 64804743.854742624, 59512388.98679489, 53075827.29539884, 46983882.694694735, 41349511.699010424, 35788370.25960676, 31027599.54012481, 26734101.416133553, 23692424.575774856, 21390385.29385876, 19709107.01493528, 18669667.663268592, 18071871.267998677, 17527561.53704389, 17337929.62032243, 17212046.150170818]]\n",
      "[[90323392.31823471, 81952879.47768448, 74492487.79627362, 69585737.75720261, 64910693.62918584, 60281863.276908726, 54195390.293495625, 48403206.922997974, 42210353.61416862, 36369603.75299126, 31269901.474264257, 27090071.293607637, 24152892.40351928, 21860988.030150007, 20341700.517774466, 19539419.63742041, 19016388.58433986, 18658281.601286203, 18456473.419125587, 18374020.62181946], [91894011.18408735, 82057520.21102813, 73146469.29634489, 67244329.01114611, 62462136.510800295, 57878518.15941321, 51813990.48471905, 46038182.8334108, 39763525.84122743, 34345299.751948275, 29682914.316744618, 25613586.871105816, 22837749.643505067, 20975608.985745747, 19684048.947513025, 18944157.135093074, 18357820.420412395, 18109008.26256271, 18010579.437527746, 17795125.574616462], [96445194.71898843, 87091909.30679844, 79336806.16617276, 74457786.1109228, 69715431.35500805, 64397610.883088954, 57518834.031989284, 50840173.0024912, 44296176.44874838, 38476882.369749, 33449187.456424206, 29231092.840039708, 25841215.456379477, 23636528.71868519, 22033706.169907838, 20930361.44295373, 20405069.5116955, 19872159.633328583, 19698724.17238261, 19684429.15947123], [91206057.52192837, 80981561.08105381, 73076086.8043847, 68275422.81247903, 63246821.4625634, 57854385.27309974, 51872457.810181744, 46372576.02462103, 40800524.2745631, 34704145.54957098, 30128248.34352157, 26198756.88749772, 23353088.907720186, 21308733.015744995, 20000737.36011344, 19262154.92544895, 18713166.415081657, 18377195.91347909, 18182630.76163821, 18030354.445372563], [91451409.49246901, 82643205.87892231, 74165241.19472489, 68418342.75775298, 63687596.250099465, 58266097.271338634, 51740592.57450973, 45701445.200833224, 39759971.80616376, 34443334.449853525, 29939724.29677484, 26125356.485157073, 23193273.25002674, 21126751.869025066, 19536947.511339463, 18670397.831855036, 18040038.145377968, 17778407.632839058, 17572721.21348666, 17393633.8904634], [92250041.63557371, 83034633.97944166, 75148507.49043499, 69742894.85509229, 64804743.854742624, 59512388.98679489, 53075827.29539884, 46983882.694694735, 41349511.699010424, 35788370.25960676, 31027599.54012481, 26734101.416133553, 23692424.575774856, 21390385.29385876, 19709107.01493528, 18669667.663268592, 18071871.267998677, 17527561.53704389, 17337929.62032243, 17212046.150170818], [85085519.69037874, 75846326.91100504, 68776223.9795114, 64247030.31699059, 59645424.08596976, 55312821.8713851, 49027304.98812474, 43307849.11244537, 37798442.50291152, 32714101.208548717, 28401342.976928245, 25124062.66802341, 22686482.99537864, 20672902.197748903, 19471422.727073565, 18759212.130261134, 18176297.69285757, 18015926.152654033, 17894306.787115864, 17835916.96130325]]\n",
      "[[90323392.31823471, 81952879.47768448, 74492487.79627362, 69585737.75720261, 64910693.62918584, 60281863.276908726, 54195390.293495625, 48403206.922997974, 42210353.61416862, 36369603.75299126, 31269901.474264257, 27090071.293607637, 24152892.40351928, 21860988.030150007, 20341700.517774466, 19539419.63742041, 19016388.58433986, 18658281.601286203, 18456473.419125587, 18374020.62181946], [91894011.18408735, 82057520.21102813, 73146469.29634489, 67244329.01114611, 62462136.510800295, 57878518.15941321, 51813990.48471905, 46038182.8334108, 39763525.84122743, 34345299.751948275, 29682914.316744618, 25613586.871105816, 22837749.643505067, 20975608.985745747, 19684048.947513025, 18944157.135093074, 18357820.420412395, 18109008.26256271, 18010579.437527746, 17795125.574616462], [96445194.71898843, 87091909.30679844, 79336806.16617276, 74457786.1109228, 69715431.35500805, 64397610.883088954, 57518834.031989284, 50840173.0024912, 44296176.44874838, 38476882.369749, 33449187.456424206, 29231092.840039708, 25841215.456379477, 23636528.71868519, 22033706.169907838, 20930361.44295373, 20405069.5116955, 19872159.633328583, 19698724.17238261, 19684429.15947123], [91206057.52192837, 80981561.08105381, 73076086.8043847, 68275422.81247903, 63246821.4625634, 57854385.27309974, 51872457.810181744, 46372576.02462103, 40800524.2745631, 34704145.54957098, 30128248.34352157, 26198756.88749772, 23353088.907720186, 21308733.015744995, 20000737.36011344, 19262154.92544895, 18713166.415081657, 18377195.91347909, 18182630.76163821, 18030354.445372563], [91451409.49246901, 82643205.87892231, 74165241.19472489, 68418342.75775298, 63687596.250099465, 58266097.271338634, 51740592.57450973, 45701445.200833224, 39759971.80616376, 34443334.449853525, 29939724.29677484, 26125356.485157073, 23193273.25002674, 21126751.869025066, 19536947.511339463, 18670397.831855036, 18040038.145377968, 17778407.632839058, 17572721.21348666, 17393633.8904634], [92250041.63557371, 83034633.97944166, 75148507.49043499, 69742894.85509229, 64804743.854742624, 59512388.98679489, 53075827.29539884, 46983882.694694735, 41349511.699010424, 35788370.25960676, 31027599.54012481, 26734101.416133553, 23692424.575774856, 21390385.29385876, 19709107.01493528, 18669667.663268592, 18071871.267998677, 17527561.53704389, 17337929.62032243, 17212046.150170818], [85085519.69037874, 75846326.91100504, 68776223.9795114, 64247030.31699059, 59645424.08596976, 55312821.8713851, 49027304.98812474, 43307849.11244537, 37798442.50291152, 32714101.208548717, 28401342.976928245, 25124062.66802341, 22686482.99537864, 20672902.197748903, 19471422.727073565, 18759212.130261134, 18176297.69285757, 18015926.152654033, 17894306.787115864, 17835916.96130325], [90446137.45173298, 81241416.39594622, 73802072.96278705, 68972268.8010153, 64125540.9226709, 59088110.68587314, 52832712.06199761, 47249920.208774894, 40876805.48322491, 35390264.37315606, 29942853.39831561, 25936464.966477595, 23054954.215337835, 20927550.101882532, 19668340.63876968, 18810819.054959834, 18434798.74323699, 18216357.19876786, 18148855.31865861, 18039709.99573009]]\n",
      "[[90323392.31823471, 81952879.47768448, 74492487.79627362, 69585737.75720261, 64910693.62918584, 60281863.276908726, 54195390.293495625, 48403206.922997974, 42210353.61416862, 36369603.75299126, 31269901.474264257, 27090071.293607637, 24152892.40351928, 21860988.030150007, 20341700.517774466, 19539419.63742041, 19016388.58433986, 18658281.601286203, 18456473.419125587, 18374020.62181946], [91894011.18408735, 82057520.21102813, 73146469.29634489, 67244329.01114611, 62462136.510800295, 57878518.15941321, 51813990.48471905, 46038182.8334108, 39763525.84122743, 34345299.751948275, 29682914.316744618, 25613586.871105816, 22837749.643505067, 20975608.985745747, 19684048.947513025, 18944157.135093074, 18357820.420412395, 18109008.26256271, 18010579.437527746, 17795125.574616462], [96445194.71898843, 87091909.30679844, 79336806.16617276, 74457786.1109228, 69715431.35500805, 64397610.883088954, 57518834.031989284, 50840173.0024912, 44296176.44874838, 38476882.369749, 33449187.456424206, 29231092.840039708, 25841215.456379477, 23636528.71868519, 22033706.169907838, 20930361.44295373, 20405069.5116955, 19872159.633328583, 19698724.17238261, 19684429.15947123], [91206057.52192837, 80981561.08105381, 73076086.8043847, 68275422.81247903, 63246821.4625634, 57854385.27309974, 51872457.810181744, 46372576.02462103, 40800524.2745631, 34704145.54957098, 30128248.34352157, 26198756.88749772, 23353088.907720186, 21308733.015744995, 20000737.36011344, 19262154.92544895, 18713166.415081657, 18377195.91347909, 18182630.76163821, 18030354.445372563], [91451409.49246901, 82643205.87892231, 74165241.19472489, 68418342.75775298, 63687596.250099465, 58266097.271338634, 51740592.57450973, 45701445.200833224, 39759971.80616376, 34443334.449853525, 29939724.29677484, 26125356.485157073, 23193273.25002674, 21126751.869025066, 19536947.511339463, 18670397.831855036, 18040038.145377968, 17778407.632839058, 17572721.21348666, 17393633.8904634], [92250041.63557371, 83034633.97944166, 75148507.49043499, 69742894.85509229, 64804743.854742624, 59512388.98679489, 53075827.29539884, 46983882.694694735, 41349511.699010424, 35788370.25960676, 31027599.54012481, 26734101.416133553, 23692424.575774856, 21390385.29385876, 19709107.01493528, 18669667.663268592, 18071871.267998677, 17527561.53704389, 17337929.62032243, 17212046.150170818], [85085519.69037874, 75846326.91100504, 68776223.9795114, 64247030.31699059, 59645424.08596976, 55312821.8713851, 49027304.98812474, 43307849.11244537, 37798442.50291152, 32714101.208548717, 28401342.976928245, 25124062.66802341, 22686482.99537864, 20672902.197748903, 19471422.727073565, 18759212.130261134, 18176297.69285757, 18015926.152654033, 17894306.787115864, 17835916.96130325], [90446137.45173298, 81241416.39594622, 73802072.96278705, 68972268.8010153, 64125540.9226709, 59088110.68587314, 52832712.06199761, 47249920.208774894, 40876805.48322491, 35390264.37315606, 29942853.39831561, 25936464.966477595, 23054954.215337835, 20927550.101882532, 19668340.63876968, 18810819.054959834, 18434798.74323699, 18216357.19876786, 18148855.31865861, 18039709.99573009], [87784929.64507915, 78741453.9395342, 70796451.43027388, 66094452.12173563, 61562858.93596309, 56646037.70548931, 50312062.10027691, 44203940.55940299, 37901449.1382911, 32531142.532213807, 28167457.08162499, 24770249.96530563, 22084735.991508257, 20343901.81041676, 19171748.52803983, 18353118.68117258, 17852234.644891877, 17625002.598944474, 17467740.644955017, 17415439.15145657]]\n",
      "[[90323392.31823471, 81952879.47768448, 74492487.79627362, 69585737.75720261, 64910693.62918584, 60281863.276908726, 54195390.293495625, 48403206.922997974, 42210353.61416862, 36369603.75299126, 31269901.474264257, 27090071.293607637, 24152892.40351928, 21860988.030150007, 20341700.517774466, 19539419.63742041, 19016388.58433986, 18658281.601286203, 18456473.419125587, 18374020.62181946], [91894011.18408735, 82057520.21102813, 73146469.29634489, 67244329.01114611, 62462136.510800295, 57878518.15941321, 51813990.48471905, 46038182.8334108, 39763525.84122743, 34345299.751948275, 29682914.316744618, 25613586.871105816, 22837749.643505067, 20975608.985745747, 19684048.947513025, 18944157.135093074, 18357820.420412395, 18109008.26256271, 18010579.437527746, 17795125.574616462], [96445194.71898843, 87091909.30679844, 79336806.16617276, 74457786.1109228, 69715431.35500805, 64397610.883088954, 57518834.031989284, 50840173.0024912, 44296176.44874838, 38476882.369749, 33449187.456424206, 29231092.840039708, 25841215.456379477, 23636528.71868519, 22033706.169907838, 20930361.44295373, 20405069.5116955, 19872159.633328583, 19698724.17238261, 19684429.15947123], [91206057.52192837, 80981561.08105381, 73076086.8043847, 68275422.81247903, 63246821.4625634, 57854385.27309974, 51872457.810181744, 46372576.02462103, 40800524.2745631, 34704145.54957098, 30128248.34352157, 26198756.88749772, 23353088.907720186, 21308733.015744995, 20000737.36011344, 19262154.92544895, 18713166.415081657, 18377195.91347909, 18182630.76163821, 18030354.445372563], [91451409.49246901, 82643205.87892231, 74165241.19472489, 68418342.75775298, 63687596.250099465, 58266097.271338634, 51740592.57450973, 45701445.200833224, 39759971.80616376, 34443334.449853525, 29939724.29677484, 26125356.485157073, 23193273.25002674, 21126751.869025066, 19536947.511339463, 18670397.831855036, 18040038.145377968, 17778407.632839058, 17572721.21348666, 17393633.8904634], [92250041.63557371, 83034633.97944166, 75148507.49043499, 69742894.85509229, 64804743.854742624, 59512388.98679489, 53075827.29539884, 46983882.694694735, 41349511.699010424, 35788370.25960676, 31027599.54012481, 26734101.416133553, 23692424.575774856, 21390385.29385876, 19709107.01493528, 18669667.663268592, 18071871.267998677, 17527561.53704389, 17337929.62032243, 17212046.150170818], [85085519.69037874, 75846326.91100504, 68776223.9795114, 64247030.31699059, 59645424.08596976, 55312821.8713851, 49027304.98812474, 43307849.11244537, 37798442.50291152, 32714101.208548717, 28401342.976928245, 25124062.66802341, 22686482.99537864, 20672902.197748903, 19471422.727073565, 18759212.130261134, 18176297.69285757, 18015926.152654033, 17894306.787115864, 17835916.96130325], [90446137.45173298, 81241416.39594622, 73802072.96278705, 68972268.8010153, 64125540.9226709, 59088110.68587314, 52832712.06199761, 47249920.208774894, 40876805.48322491, 35390264.37315606, 29942853.39831561, 25936464.966477595, 23054954.215337835, 20927550.101882532, 19668340.63876968, 18810819.054959834, 18434798.74323699, 18216357.19876786, 18148855.31865861, 18039709.99573009], [87784929.64507915, 78741453.9395342, 70796451.43027388, 66094452.12173563, 61562858.93596309, 56646037.70548931, 50312062.10027691, 44203940.55940299, 37901449.1382911, 32531142.532213807, 28167457.08162499, 24770249.96530563, 22084735.991508257, 20343901.81041676, 19171748.52803983, 18353118.68117258, 17852234.644891877, 17625002.598944474, 17467740.644955017, 17415439.15145657], [91087591.28102115, 83229128.47571822, 74744196.15460719, 68947209.61865479, 63890595.13753219, 59053113.18648049, 53322605.49780606, 47509205.03484069, 41466538.30590595, 35902354.29951928, 31323841.069099963, 27311776.334965654, 24456388.942137543, 22419824.163071595, 21057144.418421593, 20121121.67803896, 19553665.941328198, 19144261.084257457, 18960282.075744655, 18880730.064452857]]\n"
     ]
    }
   ],
   "source": [
    "k_fold_range = range(0,int(500000*frac),int(50000*frac))\n",
    "\n",
    "depth_range = range(1, 21, 1)\n",
    "MSE_scores = []\n",
    "\n",
    "for i in k_fold_range:\n",
    "  data_test = data_sample.iloc[i:i+int(50000*frac)]\n",
    "  data_train = data_sample[~data_sample.index.isin(data_test.index)]\n",
    "\n",
    "  X_train = data_train.drop(\"Price\",axis = 1)\n",
    "  Y_train = data_train[\"Price\"]\n",
    "\n",
    "  X_test = data_test.drop(\"Price\",axis = 1)\n",
    "  Y_test = data_test[\"Price\"]\n",
    "  row = []\n",
    "  for depth in depth_range:\n",
    "        clf = RandomForestRegressor(n_estimators=200,max_features=4,max_depth=depth, random_state=1, n_jobs=-1)\n",
    "        clf.fit(X_train,Y_train)\n",
    "        y_pred = clf.predict(X_test)\n",
    "        error = mean_squared_error(Y_test,y_pred)\n",
    "        #print(error)\n",
    "        row.append(error)\n",
    "        #print(row)\n",
    "  MSE_scores.append(row)\n",
    "  print(MSE_scores)"
   ]
  },
  {
   "cell_type": "code",
   "execution_count": 31,
   "metadata": {
    "colab": {
     "base_uri": "https://localhost:8080/",
     "height": 374
    },
    "colab_type": "code",
    "executionInfo": {
     "elapsed": 1172,
     "status": "ok",
     "timestamp": 1593447407465,
     "user": {
      "displayName": "Julian Velasquez",
      "photoUrl": "",
      "userId": "11029812688284237125"
     },
     "user_tz": 300
    },
    "id": "aRCj-2XBztlL",
    "outputId": "19391541-1d38-4b14-ac3c-2142cb58fb28"
   },
   "outputs": [
    {
     "data": {
      "text/plain": [
       "Modelo_1     9.079743e+07\n",
       "Modelo_2     8.168200e+07\n",
       "Modelo_3     7.374845e+07\n",
       "Modelo_4     6.859855e+07\n",
       "Modelo_5     6.380518e+07\n",
       "Modelo_6     5.882909e+07\n",
       "Modelo_7     5.257118e+07\n",
       "Modelo_8     4.666104e+07\n",
       "Modelo_9     4.062233e+07\n",
       "Modelo_10    3.506655e+07\n",
       "Modelo_11    3.033331e+07\n",
       "Modelo_12    2.641355e+07\n",
       "Modelo_13    2.353532e+07\n",
       "Modelo_14    2.146632e+07\n",
       "Modelo_15    2.006749e+07\n",
       "Modelo_16    1.920604e+07\n",
       "Modelo_17    1.866214e+07\n",
       "Modelo_18    1.833242e+07\n",
       "Modelo_19    1.817302e+07\n",
       "Modelo_20    1.806614e+07\n",
       "dtype: float64"
      ]
     },
     "execution_count": 31,
     "metadata": {
      "tags": []
     },
     "output_type": "execute_result"
    }
   ],
   "source": [
    "df_MSE = pd.DataFrame(MSE_scores, columns=['Modelo_1', 'Modelo_2','Modelo_3','Modelo_4','Modelo_5','Modelo_6','Modelo_7','Modelo_8','Modelo_9','Modelo_10',\n",
    "                                           'Modelo_11','Modelo_12','Modelo_13','Modelo_14','Modelo_15','Modelo_16','Modelo_17','Modelo_18','Modelo_19','Modelo_20'])\n",
    "\n",
    "df_MSE.mean(axis=0)"
   ]
  },
  {
   "cell_type": "markdown",
   "metadata": {
    "colab": {
     "base_uri": "https://localhost:8080/",
     "height": 308
    },
    "colab_type": "code",
    "executionInfo": {
     "elapsed": 1200,
     "status": "ok",
     "timestamp": 1593447523619,
     "user": {
      "displayName": "Julian Velasquez",
      "photoUrl": "",
      "userId": "11029812688284237125"
     },
     "user_tz": 300
    },
    "id": "kqmzPdms52Xu",
    "outputId": "6da06fa5-e1e4-4982-ec3d-cdecb0cad0ca"
   },
   "source": [
    "### The number of levels we are going to set for our final model, is max_depth =15. \n",
    "We can have lower MSE at 20 levels, however the improvement is not significant if we take on count the computational cost, "
   ]
  },
  {
   "cell_type": "code",
   "execution_count": 34,
   "metadata": {
    "colab": {
     "base_uri": "https://localhost:8080/",
     "height": 308
    },
    "colab_type": "code",
    "executionInfo": {
     "elapsed": 1200,
     "status": "ok",
     "timestamp": 1593447523619,
     "user": {
      "displayName": "Julian Velasquez",
      "photoUrl": "",
      "userId": "11029812688284237125"
     },
     "user_tz": 300
    },
    "id": "kqmzPdms52Xu",
    "outputId": "6da06fa5-e1e4-4982-ec3d-cdecb0cad0ca"
   },
   "outputs": [
    {
     "data": {
      "text/plain": [
       "Text(0, 0.5, 'MSE')"
      ]
     },
     "execution_count": 34,
     "metadata": {
      "tags": []
     },
     "output_type": "execute_result"
    },
    {
     "data": {
      "image/png": "[encoded data removed]",
      "text/plain": [
       "<Figure size 432x288 with 1 Axes>"
      ]
     },
     "metadata": {
      "needs_background": "light",
      "tags": []
     },
     "output_type": "display_data"
    }
   ],
   "source": [
    "plt.plot(depth_range, df_MSE.mean(axis=0))\n",
    "plt.xlabel('max_depth')\n",
    "plt.ylabel('MSE')"
   ]
  },
  {
   "cell_type": "markdown",
   "metadata": {
    "colab": {},
    "colab_type": "code",
    "executionInfo": {
     "elapsed": 87246,
     "status": "ok",
     "timestamp": 1593447634995,
     "user": {
      "displayName": "Julian Velasquez",
      "photoUrl": "",
      "userId": "11029812688284237125"
     },
     "user_tz": 300
    },
    "id": "vuc4CI2tpOSX"
   },
   "source": [
    "#### Running the tree with the best parameters found prevously. \n",
    "(number of statimators =200, features = 4, max depth = 15)"
   ]
  },
  {
   "cell_type": "code",
   "execution_count": 35,
   "metadata": {
    "colab": {},
    "colab_type": "code",
    "executionInfo": {
     "elapsed": 87246,
     "status": "ok",
     "timestamp": 1593447634995,
     "user": {
      "displayName": "Julian Velasquez",
      "photoUrl": "",
      "userId": "11029812688284237125"
     },
     "user_tz": 300
    },
    "id": "vuc4CI2tpOSX"
   },
   "outputs": [],
   "source": [
    "from sklearn.model_selection import train_test_split\n",
    "\n",
    "X_train, X_test, y_train, y_test = train_test_split(X_Total, Y_Total, test_size=0.70, random_state=1)\n",
    "\n",
    "clf_VF = RandomForestRegressor(n_estimators=200, max_features=4, max_depth = 15, random_state=1, n_jobs=-1)\n",
    "clf_VF.fit(X_train,y_train)\n",
    "Y_Pred = clf_VF.predict(X_test) "
   ]
  },
  {
   "cell_type": "code",
   "execution_count": 38,
   "metadata": {
    "colab": {
     "base_uri": "https://localhost:8080/",
     "height": 51
    },
    "colab_type": "code",
    "executionInfo": {
     "elapsed": 861,
     "status": "ok",
     "timestamp": 1593447679705,
     "user": {
      "displayName": "Julian Velasquez",
      "photoUrl": "",
      "userId": "11029812688284237125"
     },
     "user_tz": 300
    },
    "id": "C_zGyGgT9Nh7",
    "outputId": "6457617d-cf0d-4141-845c-5edfc23b0e42"
   },
   "outputs": [
    {
     "name": "stdout",
     "output_type": "stream",
     "text": [
      "MSE :17214889.53517118\n",
      "RMSE :4149.082975209242\n"
     ]
    }
   ],
   "source": [
    "error = mean_squared_error(Y_Pred,y_test)\n",
    "print(\"MSE :\" + str(error))\n",
    "print(\"RMSE :\" + str(np.sqrt(error)))"
   ]
  },
  {
   "cell_type": "markdown",
   "metadata": {
    "colab": {
     "base_uri": "https://localhost:8080/",
     "height": 204
    },
    "colab_type": "code",
    "executionInfo": {
     "elapsed": 2005,
     "status": "ok",
     "timestamp": 1593447737789,
     "user": {
      "displayName": "Julian Velasquez",
      "photoUrl": "",
      "userId": "11029812688284237125"
     },
     "user_tz": 300
    },
    "id": "HHX6u7vVpOSb",
    "outputId": "9e4997b7-b700-45e8-a4b2-30f4488aabd5"
   },
   "source": [
    "#### Importance of variables\n",
    "- we can see that most important variable is Model, followed by  year, Which make sense for stablishing the priceof a vehicle"
   ]
  },
  {
   "cell_type": "code",
   "execution_count": 39,
   "metadata": {
    "colab": {
     "base_uri": "https://localhost:8080/",
     "height": 204
    },
    "colab_type": "code",
    "executionInfo": {
     "elapsed": 2005,
     "status": "ok",
     "timestamp": 1593447737789,
     "user": {
      "displayName": "Julian Velasquez",
      "photoUrl": "",
      "userId": "11029812688284237125"
     },
     "user_tz": 300
    },
    "id": "HHX6u7vVpOSb",
    "outputId": "9e4997b7-b700-45e8-a4b2-30f4488aabd5"
   },
   "outputs": [
    {
     "data": {
      "text/html": [
       "<div>\n",
       "<style scoped>\n",
       "    .dataframe tbody tr th:only-of-type {\n",
       "        vertical-align: middle;\n",
       "    }\n",
       "\n",
       "    .dataframe tbody tr th {\n",
       "        vertical-align: top;\n",
       "    }\n",
       "\n",
       "    .dataframe thead th {\n",
       "        text-align: right;\n",
       "    }\n",
       "</style>\n",
       "<table border=\"1\" class=\"dataframe\">\n",
       "  <thead>\n",
       "    <tr style=\"text-align: right;\">\n",
       "      <th></th>\n",
       "      <th>feature</th>\n",
       "      <th>importance</th>\n",
       "    </tr>\n",
       "  </thead>\n",
       "  <tbody>\n",
       "    <tr>\n",
       "      <th>2</th>\n",
       "      <td>State</td>\n",
       "      <td>0.041771</td>\n",
       "    </tr>\n",
       "    <tr>\n",
       "      <th>1</th>\n",
       "      <td>Mileage</td>\n",
       "      <td>0.166046</td>\n",
       "    </tr>\n",
       "    <tr>\n",
       "      <th>3</th>\n",
       "      <td>Make</td>\n",
       "      <td>0.197011</td>\n",
       "    </tr>\n",
       "    <tr>\n",
       "      <th>0</th>\n",
       "      <td>Year</td>\n",
       "      <td>0.239963</td>\n",
       "    </tr>\n",
       "    <tr>\n",
       "      <th>4</th>\n",
       "      <td>Model</td>\n",
       "      <td>0.355209</td>\n",
       "    </tr>\n",
       "  </tbody>\n",
       "</table>\n",
       "</div>"
      ],
      "text/plain": [
       "   feature  importance\n",
       "2    State    0.041771\n",
       "1  Mileage    0.166046\n",
       "3     Make    0.197011\n",
       "0     Year    0.239963\n",
       "4    Model    0.355209"
      ]
     },
     "execution_count": 39,
     "metadata": {
      "tags": []
     },
     "output_type": "execute_result"
    }
   ],
   "source": [
    "# compute feature importances\n",
    "feature_cols = data.drop(\"Price\",axis = 1).columns\n",
    "pd.DataFrame({'feature':feature_cols, 'importance':clf.feature_importances_}).sort_values('importance')"
   ]
  },
  {
   "cell_type": "markdown",
   "metadata": {
    "colab_type": "text",
    "id": "1qfRzhrhpOSs"
   },
   "source": [
    "# Exercise P2.2 (50%)\n",
    "\n",
    "Create an API of the model.\n",
    "\n",
    "Example:\n",
    "![](https://raw.githubusercontent.com/albahnsen/PracticalMachineLearningClass/master/notebooks/images/img015.PNG)\n",
    "\n",
    "#### Evaluation:\n",
    "- 40% - API hosted on a cloud service\n",
    "- 10% - Show screenshots of the model doing the predictions on the local machine\n"
   ]
  },
  {
   "cell_type": "markdown",
   "metadata": {},
   "source": [
    "## Save the Model\n",
    "The following commands save the Random Forest Reggression Model  in a format .aaa, than we later change from the file directly to format .pkl.\n",
    "The compress is reducing the size of the file as much as posible so it can be loaded in git-hub\n"
   ]
  },
  {
   "cell_type": "code",
   "execution_count": null,
   "metadata": {},
   "outputs": [],
   "source": [
    "from sklearn.externals import joblib"
   ]
  },
  {
   "cell_type": "code",
   "execution_count": null,
   "metadata": {},
   "outputs": [],
   "source": [
    "joblib.dump(clf_VF, 'price_forecast.aaaa', compress=9)"
   ]
  },
  {
   "cell_type": "markdown",
   "metadata": {},
   "source": [
    "## Initial parameter as input to create the model"
   ]
  },
  {
   "cell_type": "code",
   "execution_count": 2,
   "metadata": {},
   "outputs": [
    {
     "name": "stderr",
     "output_type": "stream",
     "text": [
      "C:\\Users\\Daniel Camillo Rojas\\Anaconda3\\lib\\site-packages\\sklearn\\externals\\joblib\\__init__.py:15: DeprecationWarning: sklearn.externals.joblib is deprecated in 0.21 and will be removed in 0.23. Please import this functionality directly from joblib, which can be installed with: pip install joblib. If this warning is raised when loading pickled models, you may need to re-serialize those models with scikit-learn 0.21+.\n",
      "  warnings.warn(msg, category=DeprecationWarning)\n"
     ]
    }
   ],
   "source": [
    "import pandas as pd\n",
    "from sklearn.externals import joblib\n",
    "import sys\n",
    "import os"
   ]
  },
  {
   "cell_type": "code",
   "execution_count": 3,
   "metadata": {},
   "outputs": [],
   "source": [
    "Model=\"Mazda34dr\"\n",
    "Make=\"Mazda\"\n",
    "Mileage=15000\n",
    "Year=2014\n",
    "State=\"MD\""
   ]
  },
  {
   "cell_type": "code",
   "execution_count": 4,
   "metadata": {},
   "outputs": [
    {
     "data": {
      "text/html": [
       "<div>\n",
       "<style scoped>\n",
       "    .dataframe tbody tr th:only-of-type {\n",
       "        vertical-align: middle;\n",
       "    }\n",
       "\n",
       "    .dataframe tbody tr th {\n",
       "        vertical-align: top;\n",
       "    }\n",
       "\n",
       "    .dataframe thead th {\n",
       "        text-align: right;\n",
       "    }\n",
       "</style>\n",
       "<table border=\"1\" class=\"dataframe\">\n",
       "  <thead>\n",
       "    <tr style=\"text-align: right;\">\n",
       "      <th></th>\n",
       "      <th>Model</th>\n",
       "      <th>Make</th>\n",
       "      <th>Mileage</th>\n",
       "      <th>Year</th>\n",
       "      <th>State</th>\n",
       "    </tr>\n",
       "  </thead>\n",
       "  <tbody>\n",
       "    <tr>\n",
       "      <td>0</td>\n",
       "      <td>Mazda34dr</td>\n",
       "      <td>Mazda</td>\n",
       "      <td>15000</td>\n",
       "      <td>2014</td>\n",
       "      <td>MD</td>\n",
       "    </tr>\n",
       "  </tbody>\n",
       "</table>\n",
       "</div>"
      ],
      "text/plain": [
       "       Model   Make  Mileage  Year State\n",
       "0  Mazda34dr  Mazda    15000  2014    MD"
      ]
     },
     "execution_count": 4,
     "metadata": {},
     "output_type": "execute_result"
    }
   ],
   "source": [
    "d = {'Model':[Model], 'Make': [Make], 'Mileage': [Mileage], 'Year': [Year], 'State': [State]}\n",
    "DF = pd.DataFrame(data=d)\n",
    "DF"
   ]
  },
  {
   "cell_type": "markdown",
   "metadata": {},
   "source": [
    "##  Importing the model which was defined in a .py file, this file is in the repository called  as ModelDeployment1"
   ]
  },
  {
   "cell_type": "code",
   "execution_count": 6,
   "metadata": {},
   "outputs": [
    {
     "ename": "ModuleNotFoundError",
     "evalue": "No module named 'ModelDeployment1'",
     "output_type": "error",
     "traceback": [
      "\u001b[1;31m---------------------------------------------------------------------------\u001b[0m",
      "\u001b[1;31mModuleNotFoundError\u001b[0m                       Traceback (most recent call last)",
      "\u001b[1;32m<ipython-input-6-ddda75bd9f46>\u001b[0m in \u001b[0;36m<module>\u001b[1;34m\u001b[0m\n\u001b[1;32m----> 1\u001b[1;33m \u001b[1;32mfrom\u001b[0m \u001b[0mModelDeployment1\u001b[0m \u001b[1;32mimport\u001b[0m \u001b[0mPredictPrice\u001b[0m\u001b[1;33m\u001b[0m\u001b[1;33m\u001b[0m\u001b[0m\n\u001b[0m",
      "\u001b[1;31mModuleNotFoundError\u001b[0m: No module named 'ModelDeployment1'"
     ]
    }
   ],
   "source": [
    "from ModelDeployment1 import PredictPrice"
   ]
  },
  {
   "cell_type": "markdown",
   "metadata": {},
   "source": [
    "### Part 3: Create the API\n",
    "Stablishing the entry arguments, which in our case are the 5 features required to predict"
   ]
  },
  {
   "cell_type": "code",
   "execution_count": null,
   "metadata": {},
   "outputs": [],
   "source": [
    "from flask import Flask\n",
    "from flask_restx import Api, Resource, fields\n",
    "from sklearn.externals import joblib\n",
    "\n",
    "app = Flask(__name__)\n",
    "\n",
    "api = Api(\n",
    "    app, \n",
    "    version='1.0', \n",
    "    title='Predicting Price',\n",
    "    description='Predicting Price')\n",
    "\n",
    "ns = api.namespace('predict', \n",
    "     description='Predicting Price')\n",
    "   \n",
    "parser = api.parser()\n",
    "\n",
    "parser.add_argument(\n",
    "    'Model', \n",
    "    type=str, \n",
    "    required=True, \n",
    "    help='type Model', \n",
    "    location='args')\n",
    "\n",
    "parser.add_argument(\n",
    "    'Make', \n",
    "    type=str, \n",
    "    required=True, \n",
    "    help='Type make', \n",
    "    location='args')\n",
    "\n",
    "parser.add_argument(\n",
    "    'Mileage', \n",
    "    type=int, \n",
    "    required=True, \n",
    "    help='Type mileage', \n",
    "    location='args')\n",
    "\n",
    "parser.add_argument(\n",
    "    'Year', \n",
    "    type=int, \n",
    "    required=True, \n",
    "    help='Type year', \n",
    "    location='args')\n",
    "\n",
    "\n",
    "parser.add_argument(\n",
    "    'State', \n",
    "    type=str, \n",
    "    required=True, \n",
    "    help='type State', \n",
    "    location='args')\n",
    "\n",
    "resource_fields = api.model('Resource', {\n",
    "    'result': fields.String,\n",
    "})"
   ]
  },
  {
   "cell_type": "markdown",
   "metadata": {},
   "source": [
    "##### Load model and create function that predicts the price of the vehicle"
   ]
  },
  {
   "cell_type": "code",
   "execution_count": null,
   "metadata": {},
   "outputs": [],
   "source": [
    "@ns.route('/')\n",
    "class PredictingPrice(Resource):\n",
    "\n",
    "    @api.doc(parser=parser)\n",
    "    @api.marshal_with(resource_fields)\n",
    "    def get(self):\n",
    "        args = parser.parse_args()\n",
    "        \n",
    "        Model = args['Model']\n",
    "        Make = args['Make']\n",
    "        Mileage = args['Mileage']\n",
    "        Year = args['Year']\n",
    "        State = args['State']\n",
    "        \n",
    "        #DF = DF.split('%3B')\n",
    "        print(DF)\n",
    "        \n",
    "        return {\n",
    "         \"result\": PredictPrice(Model, Make, Mileage, Year, State)\n",
    "        }, 200"
   ]
  },
  {
   "cell_type": "markdown",
   "metadata": {},
   "source": [
    "Runing the API"
   ]
  },
  {
   "cell_type": "code",
   "execution_count": null,
   "metadata": {},
   "outputs": [],
   "source": [
    "app.run(debug=True, use_reloader=False, host='0.0.0.0', port=5000)"
   ]
  }
 ],
 "metadata": {
  "colab": {
   "collapsed_sections": [],
   "name": "P2-UsedVehiclePricePrediction_v2.ipynb",
   "provenance": []
  },
  "kernelspec": {
   "display_name": "Python 3",
   "language": "python",
   "name": "python3"
  },
  "language_info": {
   "codemirror_mode": {
    "name": "ipython",
    "version": 3
   },
   "file_extension": ".py",
   "mimetype": "text/x-python",
   "name": "python",
   "nbconvert_exporter": "python",
   "pygments_lexer": "ipython3",
   "version": "3.7.4"
  }
 },
 "nbformat": 4,
 "nbformat_minor": 1
}
